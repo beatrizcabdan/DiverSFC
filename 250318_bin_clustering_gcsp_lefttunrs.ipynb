{
 "cells": [
  {
   "metadata": {},
   "cell_type": "markdown",
   "source": "The code in this repository is largely based on the work of Olga Ratushniak and Svitlana Myroshnychenko during their MSc thesis. For more information, please contact Beatriz Cabrero-Daniel.",
   "id": "5ea67e8e4ab3904c"
  },
  {
   "metadata": {},
   "cell_type": "markdown",
   "source": "Some imports:",
   "id": "616fb01064b0d9d6"
  },
  {
   "cell_type": "code",
   "id": "initial_id",
   "metadata": {
    "collapsed": true,
    "ExecuteTime": {
     "end_time": "2025-04-30T09:32:33.559161Z",
     "start_time": "2025-04-30T09:32:33.557319Z"
    }
   },
   "source": [
    "import matplotlib.pyplot as plt\n",
    "from matplotlib.ticker import StrMethodFormatter\n",
    "import os\n",
    "import pandas as pd\n",
    "import zCurve as z\n",
    "import numpy as np"
   ],
   "execution_count": 509,
   "outputs": []
  },
  {
   "metadata": {},
   "cell_type": "markdown",
   "source": "Please configure here how many bins should the Generic-CSP (G-CSP) have and what is the threshold for adding a bar in a CSP (barcode) to the G-CSP:",
   "id": "98e1d3d63953e809"
  },
  {
   "metadata": {
    "ExecuteTime": {
     "end_time": "2025-04-30T09:32:33.578945Z",
     "start_time": "2025-04-30T09:32:33.576954Z"
    }
   },
   "cell_type": "code",
   "source": [
    "nbins = 20 # more bins = thinner bars\n",
    "barthreshold = 2 # higher threshold = fewer bars\n",
    "padding = 15\n",
    "\n",
    "figsize = (7, 3) "
   ],
   "id": "eb85658c8acc585c",
   "execution_count": 510,
   "outputs": []
  },
  {
   "metadata": {},
   "cell_type": "markdown",
   "source": "Reading some fake CSPs to illustrate the CSP (barcode) clustering mechanism. Feel free to play around with the signals.",
   "id": "435a06a2a5696c60"
  },
  {
   "metadata": {
    "ExecuteTime": {
     "end_time": "2025-04-30T09:32:33.805894Z",
     "start_time": "2025-04-30T09:32:33.619143Z"
    }
   },
   "cell_type": "code",
   "source": [
    "listofcsps = []\n",
    "namesoftraj = []\n",
    "\n",
    "folder_path = \"results/synthetic_turns_data\"\n",
    "files = [folder_path + \"/\" + f for f in os.listdir(folder_path) if os.path.isfile(os.path.join(folder_path, f))]\n",
    "files.sort()\n",
    "# files.reverse()\n",
    "\n",
    "# ===============================\n",
    "# DATA FILE PROCESSING\n",
    "# ===============================\n",
    "for file_path in files:\n",
    "    if \".csv\" not in file_path:\n",
    "        continue\n",
    "    \n",
    "    print(file_path)\n",
    "    \n",
    "    file_basename = os.path.splitext(os.path.basename(file_path))[0]\n",
    "    data = pd.read_csv(file_path, sep=';')    \n",
    "    data['timestamp'] = data['sampleTimeStamp.seconds'] * 1_000_000 + data['sampleTimeStamp.microseconds']\n",
    "    \n",
    "    accel_x = (data[\"accel_x\"] + 10) * 100.0\n",
    "    accel_y = (data[\"accel_y\"] + 10) * 100.0\n",
    "    \n",
    "    print(max(accel_x), max(accel_y))\n",
    "    \n",
    "    # ===============================\n",
    "    # Plot 1: Vehicle Position Colored by Speed\n",
    "    # ===============================    \n",
    "    plt.figure()\n",
    "    plt.scatter(data['x'], data['y'], c=data['speed'], cmap='viridis', s=20)\n",
    "    plt.colorbar(label=\"Speed (m/s)\")\n",
    "    plt.scatter(data.iloc[-1]['x'], data.iloc[-1]['y'], s=100, color=\"black\", edgecolors=\"white\")\n",
    "    plt.xlabel(\"Longitude (position x)\")\n",
    "    plt.ylabel(\"Latitude (position y)\")\n",
    "    plt.title(f\"Vehicle trajectory: {file_basename}\")\n",
    "    plt.axis('equal')\n",
    "    # plot1_filename = os.path.join(output_dir, f\"{file_basename}_position.png\")\n",
    "    # plt.savefig(plot1_filename, bbox_inches=\"tight\")\n",
    "    # plt.show()\n",
    "    plt.close()\n",
    "\n",
    "    listofcsps +=  [[z.interlace(int(x), int(y), bits_per_dim=12) for x, y in zip(accel_x, accel_y)][padding+1:-padding]] #because padding (straight part of trajectory) is useless\n",
    "    namesoftraj += [file_basename]"
   ],
   "id": "df28ceb5e68b92a3",
   "execution_count": 511,
   "outputs": []
  },
  {
   "metadata": {},
   "cell_type": "markdown",
   "source": "Configuration settings for the figures created below (you can ignore this):",
   "id": "25a564664c6c2bd7"
  },
  {
   "metadata": {
    "ExecuteTime": {
     "end_time": "2025-04-30T09:32:33.809929Z",
     "start_time": "2025-04-30T09:32:33.806967Z"
    }
   },
   "cell_type": "code",
   "source": [
    "cmap = plt.get_cmap('rainbow')\n",
    "colors = [cmap(1/(len(listofcsps)-1)*i) for i in range(len(listofcsps))]\n",
    "decforyaxis = StrMethodFormatter('{x:,.1f}')\n",
    "allmortonindices = []\n",
    "for csp in listofcsps:\n",
    "    allmortonindices += csp\n",
    "mortonindexmin = min(allmortonindices)\n",
    "mortonindexmax = max(allmortonindices)\n",
    "totalrange = mortonindexmax - mortonindexmin\n",
    "margins = totalrange/50.0\n",
    "numsignals = len(listofcsps)"
   ],
   "id": "9ef0ff004d52ed6",
   "execution_count": 512,
   "outputs": []
  },
  {
   "metadata": {},
   "cell_type": "markdown",
   "source": "Plotting the generated CSPs together:",
   "id": "f41d7707a1f821dc"
  },
  {
   "metadata": {
    "ExecuteTime": {
     "end_time": "2025-04-30T09:32:36.982522Z",
     "start_time": "2025-04-30T09:32:33.811098Z"
    }
   },
   "cell_type": "code",
   "source": [
    "f, axes = plt.subplots(figsize=(8, 1.5*numsignals), nrows = (numsignals+1)//2, ncols= 2)\n",
    "axes = np.atleast_2d(axes)\n",
    "\n",
    "for i, csp in enumerate(listofcsps):    \n",
    "    col = 0 if i < (numsignals + 1) // 2 else 1\n",
    "    ax = axes[i if col == 0 else i - (numsignals + 1) // 2, col]    \n",
    "    \n",
    "    ax.bar(csp, [1 for _ in range(len(csp))], width=totalrange/100, color=colors[i], alpha=0.1)\n",
    "    \n",
    "for i, csp in enumerate(listofcsps):\n",
    "    ranges = [x / (len(csp) - 1) for x in range(len(csp))]\n",
    "    \n",
    "    col = 0 if i < (numsignals + 1) // 2 else 1\n",
    "    ax = axes[i if col == 0 else i - (numsignals + 1) // 2, col]\n",
    "    \n",
    "    ax.scatter(csp, ranges, color=colors[i], edgecolor=\"k\", s=12)\n",
    "    ax.set_title(namesoftraj[i])\n",
    "    ax.set_xlim(mortonindexmin-margins, mortonindexmax+margins)\n",
    "axes[1, 0].set_ylabel(\"Timesteps (normalised)\")\n",
    "\n",
    "plt.ylim(0, 1)\n",
    "plt.gca().yaxis.set_major_formatter(decforyaxis)\n",
    "plt.xlabel(\"Morton index\")\n",
    "plt.xlim(mortonindexmin-margins, mortonindexmax+margins)\n",
    "# plt.tight_layout(rect=[0, 0, 1, 1.75])\n",
    "plt.savefig(\"results/generic_csps/1csps.png\")\n",
    "plt.show()\n",
    "plt.close()"
   ],
   "id": "d1e0544c107efc58",
   "execution_count": 513,
   "outputs": []
  },
  {
   "metadata": {},
   "cell_type": "markdown",
   "source": "Count bars in CSPs (barcodes) in each bin (same width):",
   "id": "c340cf72efd9a19c"
  },
  {
   "metadata": {
    "ExecuteTime": {
     "end_time": "2025-04-30T09:32:37.007189Z",
     "start_time": "2025-04-30T09:32:36.983691Z"
    }
   },
   "cell_type": "code",
   "source": [
    "bincounter = [0]*nbins\n",
    "for m in allmortonindices:\n",
    "    assigned = False\n",
    "    for bin in range(nbins):\n",
    "        binmin = mortonindexmin + totalrange/nbins*bin\n",
    "        binmax = binmin + totalrange/nbins\n",
    "        if binmin <= m < binmax:\n",
    "            bincounter[bin] += 1\n",
    "            assigned = True\n",
    "    if not assigned:\n",
    "        bincounter[-1] += 1"
   ],
   "id": "dd47d15d8a3fdef5",
   "execution_count": 514,
   "outputs": []
  },
  {
   "metadata": {},
   "cell_type": "markdown",
   "source": "Draw the histogram for the bars in the CSPs (aggregated):",
   "id": "e791f3a6051e18c9"
  },
  {
   "metadata": {
    "ExecuteTime": {
     "end_time": "2025-04-30T09:32:37.087648Z",
     "start_time": "2025-04-30T09:32:37.007896Z"
    }
   },
   "cell_type": "code",
   "source": [
    "plt.figure(figsize=figsize)\n",
    "plt.hist(allmortonindices, density=True, color=\"gray\", bins=nbins)\n",
    "plt.ylabel(\"Frequency\")\n",
    "plt.gca().yaxis.set_major_formatter(decforyaxis)\n",
    "plt.xlabel(\"Morton index\")\n",
    "plt.xlim(mortonindexmin-margins, mortonindexmax+margins)\n",
    "plt.title(\"Frequency of bars in CSPs (with \"+str(nbins)+\" bins)\")\n",
    "plt.tight_layout()\n",
    "plt.savefig(\"results/generic_csps/2barfreq_nbins\"+str(nbins)+\".png\")\n",
    "plt.show()\n",
    "plt.close()"
   ],
   "id": "a6121960f43866c0",
   "execution_count": 515,
   "outputs": []
  },
  {
   "metadata": {},
   "cell_type": "markdown",
   "source": "Draw the generated G-CSP based on the frequency (the amount of bars in each of the bins):",
   "id": "da47c4aef072cccc"
  },
  {
   "metadata": {
    "ExecuteTime": {
     "end_time": "2025-04-30T09:32:40.664651Z",
     "start_time": "2025-04-30T09:32:37.088427Z"
    }
   },
   "cell_type": "code",
   "source": [
    "plt.figure()\n",
    "plt.bar([totalrange/nbins/2+mortonindexmin+totalrange/(nbins)*x for x in range(nbins)], [1 if b > barthreshold else 0 for b in bincounter], width=totalrange/nbins, color=\"lightgray\")\n",
    "\n",
    "seenlabels = []\n",
    "\n",
    "for i, csp in enumerate(listofcsps):    \n",
    "    ranges = [x / (len(csp) - 1) for x in range(len(csp))]\n",
    "    \n",
    "    # speed = int(namesoftraj[i].split(\"_speed\")[1][0])\n",
    "    # radius = int(namesoftraj[i].split(\"_radius\")[1][0])\n",
    "   \n",
    "    colour = \"black\"\n",
    "    label = \"\"\n",
    "    # if speed > 5 and radius > 3:\n",
    "    #     colour = \"red\"\n",
    "    #     label = \"Big radius, high speed\"\n",
    "    # elif speed > 5 and radius <= 3:\n",
    "    #     colour = \"green\"\n",
    "    #     label = \"Small radius, high speed\"\n",
    "    # elif speed <= 5 and radius > 3:\n",
    "    #     colour = \"blue\"\n",
    "    #     label = \"Big radius, low speed\"\n",
    "    # elif speed <= 5 and radius <= 3:\n",
    "    #     colour = \"yellow\"\n",
    "    #     label = \"Small radius, low speed\"\n",
    "    if i < (numsignals+1)//2:\n",
    "        colour = \"red\"\n",
    "        label = \"Left turns\"\n",
    "    else:\n",
    "        colour = \"blue\"\n",
    "        label = \"Right turns\"\n",
    "    \n",
    "    \n",
    "    if label in seenlabels:\n",
    "        # plt.scatter(csp, ranges, color=colour, s=12)\n",
    "        plt.bar(csp, [1 for _ in range(len(csp))], width=totalrange/200, color=colour, alpha=0.9)\n",
    "    else:\n",
    "        # plt.scatter(csp, ranges, color=colour, s=1, label=label)\n",
    "        plt.bar(csp, [1 for _ in range(len(csp))], width=totalrange/200, color=colour, alpha=0.9, label=label)\n",
    "        seenlabels.append(label)\n",
    "        \n",
    "plt.ylabel(\"Timesteps (normalised)\")\n",
    "plt.ylim(0, 1)\n",
    "plt.gca().yaxis.set_major_formatter(decforyaxis)\n",
    "plt.xlabel(\"Morton index\")\n",
    "plt.xlim(mortonindexmin-margins, mortonindexmax+margins)\n",
    "plt.legend()\n",
    "plt.tight_layout(rect=[0, 0, 1, 0.95])\n",
    "plt.title(\"Morton G-CSPs (\"+str(nbins)+\" bins and \" + str(barthreshold)+\"+ bars per bin)\")\n",
    "plt.title(\"G-CSPs (\"+str(nbins)+\" bins and \" + str(barthreshold)+\"+ bars per bin)\")\n",
    "plt.savefig(\"results/generic_csps/3gcsps_nbins\"+str(nbins)+\".png\")\n",
    "plt.show()\n",
    "plt.close()"
   ],
   "id": "ca6f6526711b4586",
   "execution_count": 516,
   "outputs": []
  },
  {
   "metadata": {
    "ExecuteTime": {
     "end_time": "2025-04-30T09:32:40.667502Z",
     "start_time": "2025-04-30T09:32:40.665441Z"
    }
   },
   "cell_type": "code",
   "source": [
    "# plt.figure()\n",
    "# plt.bar([totalrange/nbins/2+mortonindexmin+totalrange/(nbins)*x for x in range(nbins)], [1 if b > barthreshold else 0 for b in bincounter], width=totalrange/nbins, color=\"lightgray\")\n",
    "# \n",
    "# colors = [\"brown\", \"red\", \"orange\", \"yellow\", \"olive\", \"green\", \"blue\", \"violet\", \"pink\"]\n",
    "# label = \"\"\n",
    "# \n",
    "# counter = 0\n",
    "# for i, csp in enumerate(listofcsps):\n",
    "#     ranges = [x / (len(csp) - 1) for x in range(len(csp))]\n",
    "#     \n",
    "#     speed = int(namesoftraj[i].split(\"_speed\")[1][0])\n",
    "#     radius = int(namesoftraj[i].split(\"_radius\")[1][0])\n",
    "#     \n",
    "#     if not (speed > 5 and radius <= 3):\n",
    "#         continue\n",
    "#         \n",
    "#     if speed > 5 and radius > 3:\n",
    "#         label = \"big radius, high speed\"\n",
    "#     elif speed > 5 and radius <= 3:\n",
    "#         label = \"small radius, high speed\"\n",
    "#     elif speed <= 5 and radius > 3:\n",
    "#         label = \"big radius, low speed\"\n",
    "#     elif speed <= 5 and radius <= 3:\n",
    "#         label = \"small radius, low speed\"\n",
    "#     \n",
    "#     plt.scatter(csp, ranges, color=colors[counter], s=12, label=namesoftraj[i])\n",
    "#     counter += 1\n",
    "#         \n",
    "# plt.ylabel(\"Timesteps (normalised)\")\n",
    "# plt.ylim(0, 1)\n",
    "# plt.gca().yaxis.set_major_formatter(decforyaxis)\n",
    "# plt.xlabel(\"Morton index\")\n",
    "# plt.xlim(mortonindexmin-margins, mortonindexmax+margins)\n",
    "# plt.legend()\n",
    "# plt.tight_layout(rect=[0, 0, 1, 0.95])\n",
    "# plt.title(\"Morton G-CSPs (\"+str(nbins)+\" bins and \" + str(barthreshold)+\"+ bars per bin) for \" + label)\n",
    "# plt.savefig(\"results/generic_csps/3gcsps_nbins\"+str(nbins)+\".png\")\n",
    "# plt.show()\n",
    "# plt.close()"
   ],
   "id": "982952810ba9f0c0",
   "execution_count": 517,
   "outputs": []
  }
 ],
 "metadata": {
  "kernelspec": {
   "display_name": "Python 3",
   "language": "python",
   "name": "python3"
  },
  "language_info": {
   "codemirror_mode": {
    "name": "ipython",
    "version": 2
   },
   "file_extension": ".py",
   "mimetype": "text/x-python",
   "name": "python",
   "nbconvert_exporter": "python",
   "pygments_lexer": "ipython2",
   "version": "2.7.6"
  }
 },
 "nbformat": 4,
 "nbformat_minor": 5
}
