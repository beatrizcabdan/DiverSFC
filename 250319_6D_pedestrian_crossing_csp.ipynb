{
 "cells": [
  {
   "metadata": {},
   "cell_type": "markdown",
   "source": "Some imports:",
   "id": "83fa05356793db82"
  },
  {
   "metadata": {
    "ExecuteTime": {
     "end_time": "2025-04-10T14:14:40.139813Z",
     "start_time": "2025-04-10T14:14:40.137688Z"
    }
   },
   "cell_type": "code",
   "source": [
    "import matplotlib.pyplot as plt\n",
    "import os\n",
    "import pandas as pd\n",
    "import zCurve as z\n",
    "import hilbert as h\n",
    "import math\n",
    "import numpy as np"
   ],
   "id": "9232e7968af05a0d",
   "execution_count": 58,
   "outputs": []
  },
  {
   "metadata": {},
   "cell_type": "markdown",
   "source": "We create some \"pedestrians crossing a grid made of six neighouring cells\" synthetic data:",
   "id": "b51e778d5e6050e6"
  },
  {
   "metadata": {
    "ExecuteTime": {
     "end_time": "2025-04-10T14:14:40.160029Z",
     "start_time": "2025-04-10T14:14:40.153824Z"
    }
   },
   "cell_type": "code",
   "source": [
    "df = pd.DataFrame()\n",
    "\n",
    "numstepsincell = 25\n",
    "gapbetweencells = numstepsincell//2+3\n",
    "\n",
    "df[\"sampleTimeStamp.seconds\"] = [t // 1000000 for t in range(0, 4000*(numstepsincell+gapbetweencells*5), 4000)]\n",
    "df[\"sampleTimeStamp.microseconds\"] = [t % 1000000 for t in range(0, 4000*(numstepsincell+gapbetweencells*5), 4000)]\n",
    "\n",
    "for c in range(6):\n",
    "    start = [0] * c * gapbetweencells\n",
    "    inbetween = [math.sin(i/numstepsincell*math.pi)**2 for i in range(numstepsincell)] #a simple way to fake the presence of someone in one of the cells\n",
    "    end = [0] * (5-c) * gapbetweencells\n",
    "    \n",
    "    df[\"cell_\"+str(c)] = start + inbetween + end\n",
    "\n",
    "df.to_csv('results/pedestrian_crossing/pedestrian_crossing_synthetic.csv', index=False, sep=\";\")"
   ],
   "id": "d5306509f9bfd9b9",
   "execution_count": 59,
   "outputs": []
  },
  {
   "metadata": {},
   "cell_type": "markdown",
   "source": "We plot the data to explore the crossing:",
   "id": "cf2fbd23dbbe01bb"
  },
  {
   "cell_type": "code",
   "id": "initial_id",
   "metadata": {
    "collapsed": true,
    "ExecuteTime": {
     "end_time": "2025-04-10T14:14:40.303733Z",
     "start_time": "2025-04-10T14:14:40.166481Z"
    }
   },
   "source": [
    "file_path = \"results/pedestrian_crossing/pedestrian_crossing_synthetic.csv\"\n",
    "file_basename = os.path.splitext(os.path.basename(file_path))[0] # Get the file basename without extension\n",
    "\n",
    "data = pd.read_csv(file_path, sep=';')\n",
    "data['timestamp'] = data['sampleTimeStamp.seconds'] * 1_000_000 + data['sampleTimeStamp.microseconds']\n",
    "\n",
    "common_figsize = (6, 3)  # Common figure size for all plots\n",
    "plt.figure(figsize=common_figsize)\n",
    "for i in range(6):\n",
    "    plt.plot(data['timestamp']/1000000, data['cell_'+str(i)], label='cell_'+str(i))\n",
    "\n",
    "plt.xlabel(\"Timestamp (seconds)\")\n",
    "plt.ylabel(\"Cell activation (percentage)\")\n",
    "plt.title(f\"Pedestrian crossing scenario: {file_basename}\")\n",
    "plt.legend()\n",
    "plt.savefig(\"results/pedestrian_crossing/\"+file_basename+\"_signals\", bbox_inches=\"tight\")\n",
    "plt.show()\n",
    "plt.close()"
   ],
   "execution_count": 60,
   "outputs": []
  },
  {
   "metadata": {},
   "cell_type": "markdown",
   "source": "Build Morton (Z-order) Index:",
   "id": "304ad5fd869a72ee"
  },
  {
   "metadata": {
    "ExecuteTime": {
     "end_time": "2025-04-10T14:14:40.536430Z",
     "start_time": "2025-04-10T14:14:40.304851Z"
    }
   },
   "cell_type": "code",
   "source": [
    "scale = 10\n",
    "columns = [scale*data['cell_'+str(i)] for i in range(6)]\n",
    "data['Morton_Index'] = [z.interlace(*[int(float(c0)), int(float(c1)), int(float(c2)), int(float(c3)), int(float(c4)), int(float(c5))], bits_per_dim=10) for c0, c1, c2, c3, c4, c5 in zip(*columns)]\n",
    "\n",
    "fig, ax1 = plt.subplots(figsize=common_figsize)\n",
    "ax1.eventplot(data['Morton_Index'],\n",
    "              orientation='horizontal',\n",
    "              colors=[\"lightgray\"],\n",
    "              alpha=0.5,\n",
    "              lineoffsets=0.5)\n",
    "ax1.set_xlabel(\"Morton Index\")\n",
    "ax1.set_ylabel('Frequency', color='b')\n",
    "ax1.set_ylim((0, 1))\n",
    "ax1.tick_params(axis='y', labelcolor='b')\n",
    "\n",
    "ax2 = ax1.twinx()\n",
    "ax2.scatter(data['Morton_Index'],\n",
    "            data['timestamp']/1000000.0,\n",
    "            color='black',\n",
    "            s=0.5,\n",
    "            alpha=0.8,\n",
    "            label=\"Timestamps\")\n",
    "ax2.set_ylabel(\"Timestamp (seconds)\", color='r')\n",
    "ax2.tick_params(axis='y', labelcolor='r')\n",
    "\n",
    "plt.title(f\"Morton index (CSP): {file_basename}\")\n",
    "ax1.grid(True, linestyle='--', linewidth=0.5, alpha=0.7)\n",
    "plt.tight_layout()\n",
    "plt.savefig(\"results/pedestrian_crossing/\"+file_basename+\"_csp_m\", bbox_inches=\"tight\")\n",
    "plt.show()\n",
    "plt.close()"
   ],
   "id": "96221e83b610a5b6",
   "execution_count": 61,
   "outputs": []
  },
  {
   "metadata": {},
   "cell_type": "markdown",
   "source": "Same, but for Hilbert:",
   "id": "779705860381f46"
  },
  {
   "metadata": {
    "ExecuteTime": {
     "end_time": "2025-04-10T14:14:40.685956Z",
     "start_time": "2025-04-10T14:14:40.537242Z"
    }
   },
   "cell_type": "code",
   "source": [
    "data[\"Hilbert_Index\"] = h.encode(np.ascontiguousarray(np.array(columns).T), 6, 10)\n",
    "\n",
    "fig, ax1 = plt.subplots(figsize=common_figsize)\n",
    "ax1.eventplot(data['Hilbert_Index'],\n",
    "              orientation='horizontal',\n",
    "              colors=[\"lightgray\"],\n",
    "              alpha=0.5,\n",
    "              lineoffsets=0.5)\n",
    "ax1.set_xlabel(\"Hilbert Index\")\n",
    "ax1.set_ylabel('Frequency', color='b')\n",
    "ax1.set_ylim((0, 1))\n",
    "ax1.tick_params(axis='y', labelcolor='b')\n",
    "\n",
    "ax2 = ax1.twinx()\n",
    "ax2.scatter(data['Hilbert_Index'],\n",
    "            data['timestamp']/1000000.0,\n",
    "            color='black',\n",
    "            s=0.5,\n",
    "            alpha=0.8,\n",
    "            label=\"Timestamps\")\n",
    "ax2.set_ylabel(\"Timestamp (seconds)\", color='r')\n",
    "ax2.tick_params(axis='y', labelcolor='r')\n",
    "\n",
    "plt.title(f\"Hilbert index (CSP): {file_basename}\")\n",
    "ax1.grid(True, linestyle='--', linewidth=0.5, alpha=0.7)\n",
    "plt.tight_layout()\n",
    "plt.savefig(\"results/pedestrian_crossing/\"+file_basename+\"_csp_h\", bbox_inches=\"tight\")\n",
    "plt.show()\n",
    "plt.close()"
   ],
   "id": "4b3429c6a104315f",
   "execution_count": 62,
   "outputs": []
  }
 ],
 "metadata": {
  "kernelspec": {
   "display_name": "Python 3",
   "language": "python",
   "name": "python3"
  },
  "language_info": {
   "codemirror_mode": {
    "name": "ipython",
    "version": 2
   },
   "file_extension": ".py",
   "mimetype": "text/x-python",
   "name": "python",
   "nbconvert_exporter": "python",
   "pygments_lexer": "ipython2",
   "version": "2.7.6"
  }
 },
 "nbformat": 4,
 "nbformat_minor": 5
}
