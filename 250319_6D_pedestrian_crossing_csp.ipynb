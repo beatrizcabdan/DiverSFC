{
 "cells": [
  {
   "metadata": {},
   "cell_type": "markdown",
   "source": "Some imports:",
   "id": "83fa05356793db82"
  },
  {
   "metadata": {
    "ExecuteTime": {
     "end_time": "2025-03-20T09:48:41.177747Z",
     "start_time": "2025-03-20T09:48:41.172637Z"
    }
   },
   "cell_type": "code",
   "source": [
    "import matplotlib.pyplot as plt\n",
    "import os\n",
    "import pandas as pd\n",
    "import zCurve as z\n",
    "import math"
   ],
   "id": "9232e7968af05a0d",
   "execution_count": 276,
   "outputs": []
  },
  {
   "metadata": {},
   "cell_type": "markdown",
   "source": "We create some \"pedestrians crossing a grid made of six neighouring cells\" synthetic data:",
   "id": "b51e778d5e6050e6"
  },
  {
   "metadata": {
    "ExecuteTime": {
     "end_time": "2025-03-20T09:48:41.200662Z",
     "start_time": "2025-03-20T09:48:41.189087Z"
    }
   },
   "cell_type": "code",
   "source": [
    "df = pd.DataFrame()\n",
    "\n",
    "numstepsincell = 25\n",
    "gapbetweencells = numstepsincell//2+3\n",
    "\n",
    "df[\"sampleTimeStamp.seconds\"] = [t // 1000000 for t in range(0, 4000*(numstepsincell+gapbetweencells*5), 4000)]\n",
    "df[\"sampleTimeStamp.microseconds\"] = [t % 1000000 for t in range(0, 4000*(numstepsincell+gapbetweencells*5), 4000)]\n",
    "\n",
    "for c in range(6):\n",
    "    start = [0] * c * gapbetweencells\n",
    "    inbetween = [math.sin(i/numstepsincell*math.pi)**2 for i in range(numstepsincell)] #a simple way to fake the presence of someone in one of the cells\n",
    "    end = [0] * (5-c) * gapbetweencells\n",
    "    \n",
    "    df[\"cell_\"+str(c)] = start + inbetween + end\n",
    "\n",
    "df.to_csv('results/pedestrian_crossing/pedestrian_crossing_synthetic.csv', index=False, sep=\";\")"
   ],
   "id": "d5306509f9bfd9b9",
   "execution_count": 277,
   "outputs": []
  },
  {
   "metadata": {},
   "cell_type": "markdown",
   "source": "We plot the data to explore the crossing:",
   "id": "cf2fbd23dbbe01bb"
  },
  {
   "cell_type": "code",
   "id": "initial_id",
   "metadata": {
    "collapsed": true,
    "ExecuteTime": {
     "end_time": "2025-03-20T09:48:41.343254Z",
     "start_time": "2025-03-20T09:48:41.202077Z"
    }
   },
   "source": [
    "file_path = \"results/pedestrian_crossing/pedestrian_crossing_synthetic.csv\"\n",
    "file_basename = os.path.splitext(os.path.basename(file_path))[0] # Get the file basename without extension\n",
    "\n",
    "data = pd.read_csv(file_path, sep=';')\n",
    "data['timestamp'] = data['sampleTimeStamp.seconds'] * 1_000_000 + data['sampleTimeStamp.microseconds']\n",
    "\n",
    "common_figsize = (6, 3)  # Common figure size for all plots\n",
    "plt.figure(figsize=common_figsize)\n",
    "for i in range(6):\n",
    "    plt.plot(data['timestamp']/1000000, data['cell_'+str(i)], label='cell_'+str(i))\n",
    "\n",
    "plt.xlabel(\"Timestamp (seconds)\")\n",
    "plt.ylabel(\"Cell activation (percentage)\")\n",
    "plt.title(f\"Pedestrian crossing scenario: {file_basename}\")\n",
    "plt.legend()\n",
    "plt.savefig(\"results/pedestrian_crossing/\"+file_basename+\"_signals\", bbox_inches=\"tight\")\n",
    "plt.show()\n",
    "plt.close()"
   ],
   "execution_count": 278,
   "outputs": []
  },
  {
   "metadata": {},
   "cell_type": "markdown",
   "source": "Build Morton (Z-order) Index (if chosen or if building both):",
   "id": "304ad5fd869a72ee"
  },
  {
   "metadata": {
    "ExecuteTime": {
     "end_time": "2025-03-20T09:48:41.473988Z",
     "start_time": "2025-03-20T09:48:41.343911Z"
    }
   },
   "cell_type": "code",
   "source": [
    "scale = 100\n",
    "columns = [data['cell_'+str(i)] for i in range(6)]\n",
    "data['Morton_Index'] = [z.interlace(*[int(scale*float(c0)), int(scale*float(c1)), int(scale*float(c2)), int(scale*float(c3)), int(scale*float(c4)), int(scale*float(c5))], bits_per_dim=12) for c0, c1, c2, c3, c4, c5 in zip(*columns)]\n",
    "\n",
    "fig, ax1 = plt.subplots(figsize=common_figsize)\n",
    "ax1.eventplot(data['Morton_Index'],\n",
    "              orientation='horizontal',\n",
    "              colors=[\"lightgray\"],\n",
    "              alpha=0.5,\n",
    "              lineoffsets=0.5)\n",
    "ax1.set_xlabel(\"Morton Index\")\n",
    "ax1.set_ylabel('Frequency', color='b')\n",
    "ax1.set_ylim((0, 1))\n",
    "ax1.tick_params(axis='y', labelcolor='b')\n",
    "\n",
    "ax2 = ax1.twinx()\n",
    "ax2.scatter(data['Morton_Index'],\n",
    "            data['timestamp']/1000000.0,\n",
    "            color='black',\n",
    "            s=0.5,\n",
    "            alpha=0.8,\n",
    "            label=\"Timestamps\")\n",
    "ax2.set_ylabel(\"Timestamp (seconds)\", color='r')\n",
    "ax2.tick_params(axis='y', labelcolor='r')\n",
    "\n",
    "plt.title(f\"Morton index (CSP): {file_basename}\")\n",
    "ax1.grid(True, linestyle='--', linewidth=0.5, alpha=0.7)\n",
    "plt.tight_layout()\n",
    "plt.savefig(\"results/pedestrian_crossing/\"+file_basename+\"_csp\", bbox_inches=\"tight\")\n",
    "plt.show()\n",
    "plt.close()"
   ],
   "id": "96221e83b610a5b6",
   "execution_count": 279,
   "outputs": []
  }
 ],
 "metadata": {
  "kernelspec": {
   "display_name": "Python 3",
   "language": "python",
   "name": "python3"
  },
  "language_info": {
   "codemirror_mode": {
    "name": "ipython",
    "version": 2
   },
   "file_extension": ".py",
   "mimetype": "text/x-python",
   "name": "python",
   "nbconvert_exporter": "python",
   "pygments_lexer": "ipython2",
   "version": "2.7.6"
  }
 },
 "nbformat": 4,
 "nbformat_minor": 5
}
