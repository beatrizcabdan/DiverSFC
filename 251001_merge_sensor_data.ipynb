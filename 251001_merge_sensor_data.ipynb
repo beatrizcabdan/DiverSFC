{
 "cells": [
  {
   "metadata": {},
   "cell_type": "markdown",
   "source": [
    "This code is part of Lydia Armini's work as a resarch assistant at Göteborgs Universitet and Chalmers University of Technology\n",
    "Please contact Beatriz Cabrero-Daniel beatriz.cabrero-daniel@gu.se for questions."
   ],
   "id": "33be44ccf98975dc"
  },
  {
   "cell_type": "code",
   "id": "61cd49c9",
   "metadata": {
    "ExecuteTime": {
     "end_time": "2025-10-01T07:35:33.536400Z",
     "start_time": "2025-10-01T07:35:28.721748Z"
    }
   },
   "source": [
    "# imports\n",
    "import os\n",
    "import csv\n",
    "import pandas as pd\n",
    "import matplotlib.pyplot as plt\n",
    "import numpy as np\n",
    "import random\n",
    "import zCurve as z\n",
    "import math"
   ],
   "outputs": [],
   "execution_count": 1
  },
  {
   "metadata": {},
   "cell_type": "markdown",
   "source": "Function to downsample any array to a target length (to merge all sensor signals):",
   "id": "e8e031205dcf9bd5"
  },
  {
   "metadata": {
    "ExecuteTime": {
     "end_time": "2025-10-01T07:35:33.540746Z",
     "start_time": "2025-10-01T07:35:33.537890Z"
    }
   },
   "cell_type": "code",
   "source": [
    "def downsample(arr, target_len):\n",
    "    n = arr.shape[0]\n",
    "    indices = [round(i * (n - 1) / (target_len - 1)) for i in range(target_len)]\n",
    "\n",
    "    if arr.ndim == 2:\n",
    "        arr =  arr[indices, :]\n",
    "    else: \n",
    "        arr = arr[indices]\n",
    "    return arr"
   ],
   "id": "ae957b8fb0486c3c",
   "outputs": [],
   "execution_count": 2
  },
  {
   "cell_type": "code",
   "id": "40b2fef3",
   "metadata": {
    "ExecuteTime": {
     "end_time": "2025-10-01T07:35:33.549543Z",
     "start_time": "2025-10-01T07:35:33.542051Z"
    }
   },
   "source": [
    "def InterpolateData(filePath, date, parentFolder='./data/Lanechangecitos/'):\n",
    "    dirPath = parentFolder + date + '/processed_log'\n",
    "\n",
    "    values_old = np.loadtxt(dirPath + filePath + \"/value.csv\", delimiter=',')\n",
    "    times_old = np.loadtxt(dirPath + filePath + \"/t.csv\", delimiter=',')    \n",
    "    times_gyro = np.loadtxt(dirPath + \"/IMU/gyro/t.csv\", delimiter=',')\n",
    "\n",
    "    target_len = len(times_gyro)\n",
    "\n",
    "    times_new = np.array(downsample(times_old, target_len=target_len))\n",
    "    values_new = np.array(downsample(values_old, target_len=target_len))\n",
    "\n",
    "    time_lc_mask = []\n",
    "    for i in range(4):\n",
    "        lcFilePath = dirPath + filePath + f'/t_lc_{i+1}'        \n",
    "        if not os.path.exists(lcFilePath):\n",
    "            break\n",
    "\n",
    "        times_lc = np.loadtxt(dirPath + f'/IMU/gyro/t_lc_{i+1}', delimiter=',')\n",
    "        tmp_mask = np.zeros(target_len)\n",
    "\n",
    "        lc_start, lc_end = np.argmin(np.abs(times_gyro-times_lc[0])), np.argmin(np.abs(times_gyro-times_lc[-1]))\n",
    "        tmp_mask[lc_start:lc_end+1] = np.ones_like(tmp_mask[lc_start:lc_end+1])\n",
    "        time_lc_mask.append(tmp_mask)\n",
    "\n",
    "    time_lc_mask = np.array(time_lc_mask).T\n",
    " \n",
    "    return times_new, values_new, time_lc_mask\n",
    "\n",
    "\n",
    "def DataToCSV(date, parentFolder='./data/Lanechangecitos/'):\n",
    "    filePaths = [\"/CAN/speed\", \"/CAN/steering_angle\", \"/IMU/accelerometer\", \"/IMU/gyro\"]\n",
    "    columns = ['Time (seconds)', 'Time (miliseconds)', 'Speed (m/s)', 'Steering angle (deg)', 'Acceleration x (m/s^2)', 'Acceleration y (m/s^2)', 'Acceleration z (m/s^2)',\n",
    "                                                        'Angular velocity x (deg/s)', 'Angular velocity y (deg/s)', 'Angular velocity z (deg/s)']\n",
    "    \n",
    "    start_ind = 2\n",
    "    for filePath in filePaths:\n",
    "        t, val, t_lc_mask = InterpolateData(date=date, filePath=filePath)\n",
    "\n",
    "        if start_ind == 2: \n",
    "            numberOfLc = t_lc_mask.shape[1]\n",
    "            for i in range(numberOfLc):\n",
    "                columns.append(f'Lane change {i+1}')\n",
    "            val_matrix = np.zeros((len(t), len(columns)))\n",
    "        \n",
    "        if val.ndim == 2:\n",
    "            end_ind = start_ind + val.shape[1]\n",
    "            val_matrix[:, start_ind:end_ind] = val\n",
    "            start_ind = end_ind\n",
    "        else: \n",
    "            val_matrix[:, start_ind] = val\n",
    "            start_ind = start_ind + 1\n",
    "\n",
    "    # Lane changes\n",
    "    val_matrix[:, end_ind:end_ind + numberOfLc] = t_lc_mask\n",
    "\n",
    "    # Time  \n",
    "    val_matrix[:, 0] = np.zeros_like(t)\n",
    "    val_matrix[:, 1] = (t * 10**3).astype(int)\n",
    "\n",
    "    df = pd.DataFrame(val_matrix, columns=columns)\n",
    "    df.to_csv(parentFolder + date + \"/\" + date + \"_merged_data_sensor.csv\")\n",
    "    "
   ],
   "outputs": [],
   "execution_count": 3
  },
  {
   "cell_type": "code",
   "id": "9dd7c1e3",
   "metadata": {
    "ExecuteTime": {
     "end_time": "2025-10-01T07:35:33.554111Z",
     "start_time": "2025-10-01T07:35:33.550739Z"
    }
   },
   "source": [
    "def PlotValues(df, listOfColumnNames):\n",
    "    times = df['Time (miliseconds)']\n",
    "    times_lc = times[df['Lane change'] == 1]\n",
    "    \n",
    "    numberOfLc = 0\n",
    "    for i in range(1, 4):\n",
    "        if f'Lane change {i}' in df.index:\n",
    "            numberOfLc = numberOfLc +1\n",
    "\n",
    "    fig, ax = plt.subplots(nrows = len(listOfColumnNames))\n",
    "\n",
    "    for i, keyName in enumerate(listOfColumnNames): \n",
    "        values = df[keyName]\n",
    "        values_lc = values[df['Lane change'] == 1]\n",
    "        ax[i].plot(times, values)\n",
    "        for lcInd in range(1, numberOfLc + 1):\n",
    "            lcKeyName = f'Lane change {i}'\n",
    "            times_lc = times[df[lcKeyName] == 1] \n",
    "            values_lc = values[df[lcKeyName] == 1] \n",
    "            ax[i].plot(times_lc, values_lc)\n",
    "\n",
    "        ax.set_ylabel(keyName)\n",
    "        ax.set_xlabel('Time (miliseconds)')\n",
    "        ax[i] = ax.plot()\n",
    "    return"
   ],
   "outputs": [],
   "execution_count": 4
  },
  {
   "cell_type": "code",
   "id": "7ebf4ade",
   "metadata": {
    "ExecuteTime": {
     "end_time": "2025-10-01T07:35:33.776303Z",
     "start_time": "2025-10-01T07:35:33.555674Z"
    }
   },
   "source": [
    "date = '2018-07-31--20-50-28_6'\n",
    "DataToCSV(date=date)\n",
    "data = pd.read_csv('./data/Lanechangecitos/' + date + \"/\" + date + \"_merged_data_sensor.csv\")\n",
    "\n",
    "times = data['Time (miliseconds)']\n",
    "values = data['Speed (m/s)']\n",
    "times_lc = times[data['Lane change 1'] == 1]\n",
    "values_lc = values[data['Lane change 1'] == 1]\n",
    "\n",
    "fig, ax = plt.subplots(nrows=1)\n",
    "ax.plot(times, values)\n",
    "ax.plot(times[data['Lane change 1'] == 1], values[data['Lane change 1'] == 1], color='red', label ='Lane change')\n",
    "ax.set_title(f'CAN Speed Data: {times.shape[0]} timestamps')\n",
    "ax.set_ylabel('Speed (m/s)')\n",
    "ax.set_xlabel('Time (miliseconds)')\n",
    "ax.legend()\n",
    "#plt.savefig('./figs/plots_2018-07-27--06-03-57_3/speed.png')\n",
    "plt.show()"
   ],
   "outputs": [
    {
     "ename": "FileNotFoundError",
     "evalue": "./data/Lanechangecitos/2018-07-31--20-50-28_6/processed_log/CAN/speed/value.csv not found.",
     "output_type": "error",
     "traceback": [
      "\u001B[31m---------------------------------------------------------------------------\u001B[39m",
      "\u001B[31mFileNotFoundError\u001B[39m                         Traceback (most recent call last)",
      "\u001B[36mCell\u001B[39m\u001B[36m \u001B[39m\u001B[32mIn[5]\u001B[39m\u001B[32m, line 2\u001B[39m\n\u001B[32m      1\u001B[39m date = \u001B[33m'\u001B[39m\u001B[33m2018-07-31--20-50-28_6\u001B[39m\u001B[33m'\u001B[39m\n\u001B[32m----> \u001B[39m\u001B[32m2\u001B[39m \u001B[43mDataToCSV\u001B[49m\u001B[43m(\u001B[49m\u001B[43mdate\u001B[49m\u001B[43m=\u001B[49m\u001B[43mdate\u001B[49m\u001B[43m)\u001B[49m\n\u001B[32m      3\u001B[39m data = pd.read_csv(\u001B[33m'\u001B[39m\u001B[33m./data/Lanechangecitos/\u001B[39m\u001B[33m'\u001B[39m + date + \u001B[33m\"\u001B[39m\u001B[33m/\u001B[39m\u001B[33m\"\u001B[39m + date + \u001B[33m\"\u001B[39m\u001B[33m_merged_data_sensor.csv\u001B[39m\u001B[33m\"\u001B[39m)\n\u001B[32m      5\u001B[39m times = data[\u001B[33m'\u001B[39m\u001B[33mTime (miliseconds)\u001B[39m\u001B[33m'\u001B[39m]\n",
      "\u001B[36mCell\u001B[39m\u001B[36m \u001B[39m\u001B[32mIn[3]\u001B[39m\u001B[32m, line 38\u001B[39m, in \u001B[36mDataToCSV\u001B[39m\u001B[34m(date, parentFolder)\u001B[39m\n\u001B[32m     36\u001B[39m start_ind = \u001B[32m2\u001B[39m\n\u001B[32m     37\u001B[39m \u001B[38;5;28;01mfor\u001B[39;00m filePath \u001B[38;5;129;01min\u001B[39;00m filePaths:\n\u001B[32m---> \u001B[39m\u001B[32m38\u001B[39m     t, val, t_lc_mask = \u001B[43mInterpolateData\u001B[49m\u001B[43m(\u001B[49m\u001B[43mdate\u001B[49m\u001B[43m=\u001B[49m\u001B[43mdate\u001B[49m\u001B[43m,\u001B[49m\u001B[43m \u001B[49m\u001B[43mfilePath\u001B[49m\u001B[43m=\u001B[49m\u001B[43mfilePath\u001B[49m\u001B[43m)\u001B[49m\n\u001B[32m     40\u001B[39m     \u001B[38;5;28;01mif\u001B[39;00m start_ind == \u001B[32m2\u001B[39m: \n\u001B[32m     41\u001B[39m         numberOfLc = t_lc_mask.shape[\u001B[32m1\u001B[39m]\n",
      "\u001B[36mCell\u001B[39m\u001B[36m \u001B[39m\u001B[32mIn[3]\u001B[39m\u001B[32m, line 4\u001B[39m, in \u001B[36mInterpolateData\u001B[39m\u001B[34m(filePath, date, parentFolder)\u001B[39m\n\u001B[32m      1\u001B[39m \u001B[38;5;28;01mdef\u001B[39;00m\u001B[38;5;250m \u001B[39m\u001B[34mInterpolateData\u001B[39m(filePath, date, parentFolder=\u001B[33m'\u001B[39m\u001B[33m./data/Lanechangecitos/\u001B[39m\u001B[33m'\u001B[39m):\n\u001B[32m      2\u001B[39m     dirPath = parentFolder + date + \u001B[33m'\u001B[39m\u001B[33m/processed_log\u001B[39m\u001B[33m'\u001B[39m\n\u001B[32m----> \u001B[39m\u001B[32m4\u001B[39m     values_old = \u001B[43mnp\u001B[49m\u001B[43m.\u001B[49m\u001B[43mloadtxt\u001B[49m\u001B[43m(\u001B[49m\u001B[43mdirPath\u001B[49m\u001B[43m \u001B[49m\u001B[43m+\u001B[49m\u001B[43m \u001B[49m\u001B[43mfilePath\u001B[49m\u001B[43m \u001B[49m\u001B[43m+\u001B[49m\u001B[43m \u001B[49m\u001B[33;43m\"\u001B[39;49m\u001B[33;43m/value.csv\u001B[39;49m\u001B[33;43m\"\u001B[39;49m\u001B[43m,\u001B[49m\u001B[43m \u001B[49m\u001B[43mdelimiter\u001B[49m\u001B[43m=\u001B[49m\u001B[33;43m'\u001B[39;49m\u001B[33;43m,\u001B[39;49m\u001B[33;43m'\u001B[39;49m\u001B[43m)\u001B[49m\n\u001B[32m      5\u001B[39m     times_old = np.loadtxt(dirPath + filePath + \u001B[33m\"\u001B[39m\u001B[33m/t.csv\u001B[39m\u001B[33m\"\u001B[39m, delimiter=\u001B[33m'\u001B[39m\u001B[33m,\u001B[39m\u001B[33m'\u001B[39m)    \n\u001B[32m      6\u001B[39m     times_gyro = np.loadtxt(dirPath + \u001B[33m\"\u001B[39m\u001B[33m/IMU/gyro/t.csv\u001B[39m\u001B[33m\"\u001B[39m, delimiter=\u001B[33m'\u001B[39m\u001B[33m,\u001B[39m\u001B[33m'\u001B[39m)\n",
      "\u001B[36mFile \u001B[39m\u001B[32m~/PycharmProjects/DiverseSFC/.venv/lib/python3.12/site-packages/numpy/lib/_npyio_impl.py:1395\u001B[39m, in \u001B[36mloadtxt\u001B[39m\u001B[34m(fname, dtype, comments, delimiter, converters, skiprows, usecols, unpack, ndmin, encoding, max_rows, quotechar, like)\u001B[39m\n\u001B[32m   1392\u001B[39m \u001B[38;5;28;01mif\u001B[39;00m \u001B[38;5;28misinstance\u001B[39m(delimiter, \u001B[38;5;28mbytes\u001B[39m):\n\u001B[32m   1393\u001B[39m     delimiter = delimiter.decode(\u001B[33m'\u001B[39m\u001B[33mlatin1\u001B[39m\u001B[33m'\u001B[39m)\n\u001B[32m-> \u001B[39m\u001B[32m1395\u001B[39m arr = \u001B[43m_read\u001B[49m\u001B[43m(\u001B[49m\u001B[43mfname\u001B[49m\u001B[43m,\u001B[49m\u001B[43m \u001B[49m\u001B[43mdtype\u001B[49m\u001B[43m=\u001B[49m\u001B[43mdtype\u001B[49m\u001B[43m,\u001B[49m\u001B[43m \u001B[49m\u001B[43mcomment\u001B[49m\u001B[43m=\u001B[49m\u001B[43mcomment\u001B[49m\u001B[43m,\u001B[49m\u001B[43m \u001B[49m\u001B[43mdelimiter\u001B[49m\u001B[43m=\u001B[49m\u001B[43mdelimiter\u001B[49m\u001B[43m,\u001B[49m\n\u001B[32m   1396\u001B[39m \u001B[43m            \u001B[49m\u001B[43mconverters\u001B[49m\u001B[43m=\u001B[49m\u001B[43mconverters\u001B[49m\u001B[43m,\u001B[49m\u001B[43m \u001B[49m\u001B[43mskiplines\u001B[49m\u001B[43m=\u001B[49m\u001B[43mskiprows\u001B[49m\u001B[43m,\u001B[49m\u001B[43m \u001B[49m\u001B[43musecols\u001B[49m\u001B[43m=\u001B[49m\u001B[43musecols\u001B[49m\u001B[43m,\u001B[49m\n\u001B[32m   1397\u001B[39m \u001B[43m            \u001B[49m\u001B[43munpack\u001B[49m\u001B[43m=\u001B[49m\u001B[43munpack\u001B[49m\u001B[43m,\u001B[49m\u001B[43m \u001B[49m\u001B[43mndmin\u001B[49m\u001B[43m=\u001B[49m\u001B[43mndmin\u001B[49m\u001B[43m,\u001B[49m\u001B[43m \u001B[49m\u001B[43mencoding\u001B[49m\u001B[43m=\u001B[49m\u001B[43mencoding\u001B[49m\u001B[43m,\u001B[49m\n\u001B[32m   1398\u001B[39m \u001B[43m            \u001B[49m\u001B[43mmax_rows\u001B[49m\u001B[43m=\u001B[49m\u001B[43mmax_rows\u001B[49m\u001B[43m,\u001B[49m\u001B[43m \u001B[49m\u001B[43mquote\u001B[49m\u001B[43m=\u001B[49m\u001B[43mquotechar\u001B[49m\u001B[43m)\u001B[49m\n\u001B[32m   1400\u001B[39m \u001B[38;5;28;01mreturn\u001B[39;00m arr\n",
      "\u001B[36mFile \u001B[39m\u001B[32m~/PycharmProjects/DiverseSFC/.venv/lib/python3.12/site-packages/numpy/lib/_npyio_impl.py:1022\u001B[39m, in \u001B[36m_read\u001B[39m\u001B[34m(fname, delimiter, comment, quote, imaginary_unit, usecols, skiplines, max_rows, converters, ndmin, unpack, dtype, encoding)\u001B[39m\n\u001B[32m   1020\u001B[39m     fname = os.fspath(fname)\n\u001B[32m   1021\u001B[39m \u001B[38;5;28;01mif\u001B[39;00m \u001B[38;5;28misinstance\u001B[39m(fname, \u001B[38;5;28mstr\u001B[39m):\n\u001B[32m-> \u001B[39m\u001B[32m1022\u001B[39m     fh = \u001B[43mnp\u001B[49m\u001B[43m.\u001B[49m\u001B[43mlib\u001B[49m\u001B[43m.\u001B[49m\u001B[43m_datasource\u001B[49m\u001B[43m.\u001B[49m\u001B[43mopen\u001B[49m\u001B[43m(\u001B[49m\u001B[43mfname\u001B[49m\u001B[43m,\u001B[49m\u001B[43m \u001B[49m\u001B[33;43m'\u001B[39;49m\u001B[33;43mrt\u001B[39;49m\u001B[33;43m'\u001B[39;49m\u001B[43m,\u001B[49m\u001B[43m \u001B[49m\u001B[43mencoding\u001B[49m\u001B[43m=\u001B[49m\u001B[43mencoding\u001B[49m\u001B[43m)\u001B[49m\n\u001B[32m   1023\u001B[39m     \u001B[38;5;28;01mif\u001B[39;00m encoding \u001B[38;5;129;01mis\u001B[39;00m \u001B[38;5;28;01mNone\u001B[39;00m:\n\u001B[32m   1024\u001B[39m         encoding = \u001B[38;5;28mgetattr\u001B[39m(fh, \u001B[33m'\u001B[39m\u001B[33mencoding\u001B[39m\u001B[33m'\u001B[39m, \u001B[33m'\u001B[39m\u001B[33mlatin1\u001B[39m\u001B[33m'\u001B[39m)\n",
      "\u001B[36mFile \u001B[39m\u001B[32m~/PycharmProjects/DiverseSFC/.venv/lib/python3.12/site-packages/numpy/lib/_datasource.py:192\u001B[39m, in \u001B[36mopen\u001B[39m\u001B[34m(path, mode, destpath, encoding, newline)\u001B[39m\n\u001B[32m    155\u001B[39m \u001B[38;5;250m\u001B[39m\u001B[33;03m\"\"\"\u001B[39;00m\n\u001B[32m    156\u001B[39m \u001B[33;03mOpen `path` with `mode` and return the file object.\u001B[39;00m\n\u001B[32m    157\u001B[39m \n\u001B[32m   (...)\u001B[39m\u001B[32m    188\u001B[39m \n\u001B[32m    189\u001B[39m \u001B[33;03m\"\"\"\u001B[39;00m\n\u001B[32m    191\u001B[39m ds = DataSource(destpath)\n\u001B[32m--> \u001B[39m\u001B[32m192\u001B[39m \u001B[38;5;28;01mreturn\u001B[39;00m \u001B[43mds\u001B[49m\u001B[43m.\u001B[49m\u001B[43mopen\u001B[49m\u001B[43m(\u001B[49m\u001B[43mpath\u001B[49m\u001B[43m,\u001B[49m\u001B[43m \u001B[49m\u001B[43mmode\u001B[49m\u001B[43m,\u001B[49m\u001B[43m \u001B[49m\u001B[43mencoding\u001B[49m\u001B[43m=\u001B[49m\u001B[43mencoding\u001B[49m\u001B[43m,\u001B[49m\u001B[43m \u001B[49m\u001B[43mnewline\u001B[49m\u001B[43m=\u001B[49m\u001B[43mnewline\u001B[49m\u001B[43m)\u001B[49m\n",
      "\u001B[36mFile \u001B[39m\u001B[32m~/PycharmProjects/DiverseSFC/.venv/lib/python3.12/site-packages/numpy/lib/_datasource.py:529\u001B[39m, in \u001B[36mDataSource.open\u001B[39m\u001B[34m(self, path, mode, encoding, newline)\u001B[39m\n\u001B[32m    526\u001B[39m     \u001B[38;5;28;01mreturn\u001B[39;00m _file_openers[ext](found, mode=mode,\n\u001B[32m    527\u001B[39m                               encoding=encoding, newline=newline)\n\u001B[32m    528\u001B[39m \u001B[38;5;28;01melse\u001B[39;00m:\n\u001B[32m--> \u001B[39m\u001B[32m529\u001B[39m     \u001B[38;5;28;01mraise\u001B[39;00m \u001B[38;5;167;01mFileNotFoundError\u001B[39;00m(\u001B[33mf\u001B[39m\u001B[33m\"\u001B[39m\u001B[38;5;132;01m{\u001B[39;00mpath\u001B[38;5;132;01m}\u001B[39;00m\u001B[33m not found.\u001B[39m\u001B[33m\"\u001B[39m)\n",
      "\u001B[31mFileNotFoundError\u001B[39m: ./data/Lanechangecitos/2018-07-31--20-50-28_6/processed_log/CAN/speed/value.csv not found."
     ]
    }
   ],
   "execution_count": 5
  },
  {
   "cell_type": "code",
   "id": "d0d31f1d",
   "metadata": {
    "ExecuteTime": {
     "end_time": "2025-10-01T07:35:33.777148Z",
     "start_time": "2025-10-01T07:35:33.777095Z"
    }
   },
   "source": [
    "values = data['Steering angle (deg)']\n",
    "values_lc = values[data['Lane change'] == 1]\n",
    "\n",
    "fig, ax = plt.subplots()\n",
    "ax.plot(times, values)\n",
    "ax.plot(times_lc, values_lc, color='red', label ='Lane change')\n",
    "ax.set_title(f'CAN Steering angle Data: {times.shape[0]} timestamps')\n",
    "ax.set_ylabel('Steering angle (deg)')\n",
    "ax.set_xlabel('Time (miliseconds)')\n",
    "\n",
    "#ax.set_xlim(19000, 20000)\n",
    "ax.legend()\n",
    "#plt.savefig('./figs/plots_2018-07-27--06-03-57_3/speed.png')\n",
    "plt.show()"
   ],
   "outputs": [],
   "execution_count": null
  },
  {
   "cell_type": "code",
   "id": "56bd1a8f",
   "metadata": {},
   "source": [
    "fig, ax = plt.subplots(nrows=3, figsize = (8,12))\n",
    "\n",
    "values = data['Acceleration x (m/s^2)']\n",
    "values_lc = values[data['Lane change'] == 1]\n",
    "\n",
    "ax[0].plot(times, values)\n",
    "ax[0].plot(times_lc, values_lc, color='red', label ='Lane change')\n",
    "\n",
    "values = data['Acceleration y (m/s^2)']\n",
    "values_lc = values[data['Lane change'] == 1]\n",
    "\n",
    "ax[1].plot(times, values )\n",
    "ax[1].plot(times_lc, values_lc, color ='red', label ='Lane change')\n",
    "\n",
    "values = data['Acceleration z (m/s^2)']\n",
    "values_lc = values[data['Lane change'] == 1]\n",
    "\n",
    "ax[2].plot(times , values + 9.8)\n",
    "ax[2].plot(times_lc, values_lc + 9.8, color='red', label ='Lane change')\n",
    "\n",
    "ax[0].set_title(f'IMU Accceleration Data: {times.shape[0]} timestamps')\n",
    "\n",
    "ax[0].set_ylabel('Acceleration x (m/s^2)')\n",
    "ax[1].set_ylabel('Acceleration y (m/s^2)')\n",
    "ax[2].set_ylabel('Acceleration z (m/s^2)')\n",
    "\n",
    "ax[2].set_xlabel('Time (miliseconds)')\n",
    "#for i in range(3):\n",
    "    #ax[i].set_xlim(19000, 20000)\n",
    "\n",
    "ax[0].legend()\n",
    "ax[1].legend()\n",
    "ax[2].legend()\n",
    "#plt.savefig('./figs/2018-07-27--06-03-57_3/acceleration.png')\n",
    "plt.show()"
   ],
   "outputs": [],
   "execution_count": null
  },
  {
   "cell_type": "code",
   "id": "c9523716",
   "metadata": {},
   "source": [
    "fig, ax = plt.subplots(nrows=3, figsize = (8,12))\n",
    "\n",
    "values = data['Angular velocity x (deg/s)']\n",
    "values_lc = values[data['Lane change'] == 1]\n",
    "\n",
    "ax[0].plot(times, values)\n",
    "ax[0].plot(times_lc, values_lc, color='red', label ='Lane change')\n",
    "\n",
    "values = data['Angular velocity y (deg/s)']\n",
    "values_lc = values[data['Lane change'] == 1]\n",
    "\n",
    "ax[1].plot(times, values + 9.8)\n",
    "ax[1].plot(times_lc, values_lc + 9.8, color ='red', label ='Lane change')\n",
    "\n",
    "values = data['Angular velocity z (deg/s)']\n",
    "values_lc = values[data['Lane change'] == 1]\n",
    "\n",
    "ax[2].plot(times, values)\n",
    "ax[2].plot(times_lc, values_lc, color='red', label ='Lane change')\n",
    "\n",
    "\n",
    "ax[0].set_title(f'IMU Gyro Data: {times.shape[0]} timestamps')\n",
    "\n",
    "ax[0].set_ylabel('Angular velocity x (deg/s)')\n",
    "ax[1].set_ylabel('Angular velocity y (deg/s)')\n",
    "ax[2].set_ylabel('Angular velocity z (deg/s)')\n",
    "\n",
    "ax[2].set_xlabel('Time (miliseconds)')\n",
    "\n",
    "ax[0].legend()\n",
    "ax[1].legend()\n",
    "ax[2].legend()\n",
    "#plt.savefig('./figs/2018-07-27--06-03-57_3/acceleration.png')\n",
    "plt.show()\n"
   ],
   "outputs": [],
   "execution_count": null
  }
 ],
 "metadata": {
  "kernelspec": {
   "display_name": ".venv",
   "language": "python",
   "name": "python3"
  },
  "language_info": {
   "codemirror_mode": {
    "name": "ipython",
    "version": 3
   },
   "file_extension": ".py",
   "mimetype": "text/x-python",
   "name": "python",
   "nbconvert_exporter": "python",
   "pygments_lexer": "ipython3",
   "version": "3.13.7"
  }
 },
 "nbformat": 4,
 "nbformat_minor": 5
}
