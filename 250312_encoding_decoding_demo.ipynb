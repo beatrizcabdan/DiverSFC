{
 "cells": [
  {
   "metadata": {},
   "cell_type": "markdown",
   "source": "Two time series to encode and decode using SFCs.",
   "id": "9e2177598359120e"
  },
  {
   "metadata": {
    "ExecuteTime": {
     "end_time": "2025-04-10T13:24:16.910071Z",
     "start_time": "2025-04-10T13:24:16.907727Z"
    }
   },
   "cell_type": "code",
   "source": [
    "signal_1 = [5,6,3,4,5]\n",
    "signal_2 = [1,2,3,2,4]"
   ],
   "id": "9bd5102d7b76250f",
   "outputs": [],
   "execution_count": 63
  },
  {
   "metadata": {},
   "cell_type": "markdown",
   "source": "Demo with Morton encoding using zCurve:",
   "id": "71acfeee18fe7466"
  },
  {
   "metadata": {
    "ExecuteTime": {
     "end_time": "2025-04-10T13:24:16.931164Z",
     "start_time": "2025-04-10T13:24:16.927750Z"
    }
   },
   "cell_type": "code",
   "source": [
    "import numpy as np\n",
    "import zCurve as z\n",
    "\n",
    "morton = [z.interlace(int(x), int(y), bits_per_dim=10) for x, y in zip(signal_1, signal_2)]\n",
    "morton_decoded = np.array([z.deinterlace(m, dims=2, total_bits=10) for m in morton])\n",
    "\n",
    "morton_decoded"
   ],
   "id": "6aed5c62a92d5d3d",
   "outputs": [
    {
     "data": {
      "text/plain": [
       "array([[5, 1],\n",
       "       [6, 2],\n",
       "       [3, 3],\n",
       "       [4, 2],\n",
       "       [5, 4]])"
      ]
     },
     "execution_count": 64,
     "metadata": {},
     "output_type": "execute_result"
    }
   ],
   "execution_count": 64
  },
  {
   "metadata": {},
   "cell_type": "markdown",
   "source": "Demo with Hilbert encoding from the hilbert library:",
   "id": "c794c8d9b9257cc"
  },
  {
   "metadata": {
    "ExecuteTime": {
     "end_time": "2025-04-10T13:24:16.938847Z",
     "start_time": "2025-04-10T13:24:16.935431Z"
    }
   },
   "cell_type": "code",
   "source": [
    "import numpy as np\n",
    "import hilbert as h\n",
    "\n",
    "hilbert = h.encode(np.ascontiguousarray(np.array([signal_1, signal_2]).T), num_dims=2, num_bits=10)\n",
    "hilbert_decoded = h.decode(hilbert, num_dims=2, num_bits=10)\n",
    "\n",
    "hilbert_decoded"
   ],
   "id": "6deefbf21ea0c411",
   "outputs": [
    {
     "data": {
      "text/plain": [
       "array([[5, 1],\n",
       "       [6, 2],\n",
       "       [3, 3],\n",
       "       [4, 2],\n",
       "       [5, 4]], dtype=uint64)"
      ]
     },
     "execution_count": 65,
     "metadata": {},
     "output_type": "execute_result"
    }
   ],
   "execution_count": 65
  },
  {
   "metadata": {},
   "cell_type": "markdown",
   "source": "Hilbert encoding and decoding with hilbertcurve.hilbertcurve.HilbertCurve:",
   "id": "85f4363e8c311d91"
  },
  {
   "metadata": {
    "ExecuteTime": {
     "end_time": "2025-04-10T13:24:16.943277Z",
     "start_time": "2025-04-10T13:24:16.940376Z"
    }
   },
   "cell_type": "code",
   "source": [
    "import numpy as np\n",
    "from hilbertcurve.hilbertcurve import HilbertCurve\n",
    "\n",
    "h = HilbertCurve(p=10, n=2)\n",
    "hilbert = [h.distance_from_point([x, y]) for x, y in zip(np.array(signal_1), np.array(signal_2))]\n",
    "hilbert_decoded = np.array(h.points_from_distances(hilbert))\n",
    "\n",
    "hilbert_decoded"
   ],
   "id": "597547f8cb5b095d",
   "outputs": [
    {
     "data": {
      "text/plain": [
       "array([[5, 1],\n",
       "       [6, 2],\n",
       "       [3, 3],\n",
       "       [4, 2],\n",
       "       [5, 4]])"
      ]
     },
     "execution_count": 66,
     "metadata": {},
     "output_type": "execute_result"
    }
   ],
   "execution_count": 66
  }
 ],
 "metadata": {
  "kernelspec": {
   "display_name": "Python 3",
   "language": "python",
   "name": "python3"
  },
  "language_info": {
   "codemirror_mode": {
    "name": "ipython",
    "version": 2
   },
   "file_extension": ".py",
   "mimetype": "text/x-python",
   "name": "python",
   "nbconvert_exporter": "python",
   "pygments_lexer": "ipython2",
   "version": "2.7.6"
  }
 },
 "nbformat": 4,
 "nbformat_minor": 5
}
