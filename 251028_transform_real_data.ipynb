{
 "cells": [
  {
   "cell_type": "code",
   "execution_count": 1,
   "id": "cb5ec728",
   "metadata": {},
   "outputs": [],
   "source": [
    "import os\n",
    "import pandas as pd\n",
    "import csv\n",
    "import time\n",
    "import matplotlib.pyplot as plt\n",
    "import numpy as np\n",
    "import random\n",
    "import zCurve as z\n",
    "import hilbert as h\n",
    "import math\n",
    "import re"
   ]
  },
  {
   "cell_type": "code",
   "execution_count": 2,
   "id": "d966e8fd",
   "metadata": {},
   "outputs": [],
   "source": [
    "def get_files_in_folder(folder_path):\n",
    "    try:\n",
    "        files = [folder_path + \"/\" + f for f in os.listdir(folder_path) if os.path.isfile(os.path.join(folder_path, f))]\n",
    "        return files\n",
    "    except Exception as e:\n",
    "        print(f\"An error occurred while getting files in the folder: {str(e)}\")\n",
    "        return []\n",
    "\n",
    "def calculate_morton(data_files, scales_dict, offsets_dict):\n",
    "    data_files.sort()\n",
    "    data_files.reverse()\n",
    "    output_dir = \"results/real_lanechangecitos_morton\"  # Folder to save plots\n",
    "    \n",
    "    if not os.path.exists(output_dir):\n",
    "        os.makedirs(output_dir)\n",
    "\n",
    "    # ===============================\n",
    "    # DATA FILE PROCESSING\n",
    "    # ===============================\n",
    "    for file_path in data_files:\n",
    "        if \".csv\" not in file_path:\n",
    "            continue\n",
    "\n",
    "        print(file_path)\n",
    "\n",
    "        # Get the file basename without extension\n",
    "        file_basename = os.path.basename(file_path)\n",
    "        results_filepath = os.path.join(output_dir, f\"{file_basename}\")\n",
    "        \n",
    "        data = pd.read_csv(file_path, sep=\",\")\n",
    "        data['timestamp'] = data['Time (miliseconds)'] / (10**3)\n",
    "\n",
    "        # Transformation for speed and steering angle \n",
    "\n",
    "        ntimestamps = len(data['timestamp'])\n",
    "        ndimensions = len(scales_dict)\n",
    "        tmp_matrix = np.zeros((ntimestamps, ndimensions))\n",
    "\n",
    "        for j, data_key in enumerate(scales_dict.keys()):\n",
    "            tmp_matrix[:, j] = [int(i) for i in data[data_key] * scales_dict[data_key] + offsets_dict[data_key]]\n",
    "\n",
    "        # -------------------------------\n",
    "        # Build Morton (Z-order) Index (if chosen or if building both)\n",
    "        # -------------------------------\n",
    "        data['Morton_Index'] = [z.interlace(int(x), int(y), bits_per_dim=10) for x, y in zip(tmp_matrix[:,0], tmp_matrix[:,1])]\n",
    "        df = pd.DataFrame(data=data)\n",
    "        df.to_csv(results_filepath, sep=\";\", index=False)\n",
    "\n",
    "    return []\n",
    "\n",
    "def calculate_hilbert(data_files, scales_dict, offsets_dict):\n",
    "    data_files.sort()\n",
    "    data_files.reverse()\n",
    "    output_dir = \"results/real_lanechangecitos_hilbert\"  # Folder to save plots\n",
    "    \n",
    "    if not os.path.exists(output_dir):\n",
    "        os.makedirs(output_dir)\n",
    "\n",
    "    # ===============================\n",
    "    # DATA FILE PROCESSING\n",
    "    # ===============================\n",
    "    for file_path in data_files:\n",
    "        if \".csv\" not in file_path:\n",
    "            continue\n",
    "\n",
    "        print(file_path)\n",
    "\n",
    "        # Get the file basename without extension\n",
    "        file_basename = os.path.basename(file_path)\n",
    "        results_filepath = os.path.join(output_dir, f\"{file_basename}\")\n",
    "        \n",
    "        data = pd.read_csv(file_path, sep=\",\")\n",
    "        data['timestamp'] = data['Time (miliseconds)'] / (10**3)\n",
    "\n",
    "        # Transformation for speed and steering angle \n",
    "\n",
    "        ntimestamps = len(data['timestamp'])\n",
    "        ndimensions = len(scales_dict)\n",
    "        tmp_matrix = np.zeros((ntimestamps, ndimensions))\n",
    "\n",
    "        for j, data_key in enumerate(scales_dict.keys()):\n",
    "            tmp_matrix[:, j] = [int(i) for i in data[data_key] * scales_dict[data_key] + offsets_dict[data_key]]\n",
    "\n",
    "        # ===============================\n",
    "        # Build Hilbert Index\n",
    "        # ===============================\n",
    "        data[\"Hilbert_Index\"] = h.encode(np.ascontiguousarray(np.array([tmp_matrix[:,0], tmp_matrix[:,1]]).T), 2, 10)\n",
    "        df = pd.DataFrame(data=data)\n",
    "        df.to_csv(results_filepath, sep=\";\", index=False)\n",
    "\n",
    "    return []"
   ]
  },
  {
   "cell_type": "code",
   "execution_count": 3,
   "id": "34e57faa",
   "metadata": {},
   "outputs": [
    {
     "name": "stdout",
     "output_type": "stream",
     "text": [
      "input_data/Lanechangecitos/2018-08-17--14-55-39_7/2018-08-17--14-55-39_7_merged_data_sensor.csv\n",
      "input_data/Lanechangecitos/2018-07-27--06-03-57_3/2018-07-27--06-03-57_3_merged_data_sensor.csv\n",
      "input_data/Lanechangecitos/2018-08-17--14-55-39_7/2018-08-17--14-55-39_7_merged_data_sensor.csv\n",
      "input_data/Lanechangecitos/2018-07-27--06-03-57_3/2018-07-27--06-03-57_3_merged_data_sensor.csv\n"
     ]
    },
    {
     "data": {
      "text/plain": [
       "[]"
      ]
     },
     "execution_count": 3,
     "metadata": {},
     "output_type": "execute_result"
    }
   ],
   "source": [
    "# Set transformation for speed and steering angle\n",
    "offsets, scales = {\"Speed (m/s)\": 105}, {\"Speed (m/s)\": 4}\n",
    "offsets[\"Steering angle (deg)\"] = 150\n",
    "scales[\"Steering angle (deg)\"] = 1\n",
    "\n",
    "# ===============================\n",
    "# Calculate morton and hilbert\n",
    "# ===============================\n",
    "\n",
    "data_files = ['input_data/Lanechangecitos/2018-08-17--14-55-39_7/2018-08-17--14-55-39_7_merged_data_sensor.csv',\n",
    "                   'input_data/Lanechangecitos/2018-07-27--06-03-57_3/2018-07-27--06-03-57_3_merged_data_sensor.csv']\n",
    "data_files.sort()\n",
    "data_files.reverse()\n",
    "calculate_morton(data_files=data_files,scales_dict=scales, offsets_dict=offsets)\n",
    "calculate_hilbert(data_files=data_files,scales_dict=scales, offsets_dict=offsets)"
   ]
  },
  {
   "cell_type": "code",
   "execution_count": null,
   "id": "eb4d2f81",
   "metadata": {},
   "outputs": [],
   "source": []
  }
 ],
 "metadata": {
  "kernelspec": {
   "display_name": ".venv",
   "language": "python",
   "name": "python3"
  },
  "language_info": {
   "codemirror_mode": {
    "name": "ipython",
    "version": 3
   },
   "file_extension": ".py",
   "mimetype": "text/x-python",
   "name": "python",
   "nbconvert_exporter": "python",
   "pygments_lexer": "ipython3",
   "version": "3.13.7"
  }
 },
 "nbformat": 4,
 "nbformat_minor": 5
}
