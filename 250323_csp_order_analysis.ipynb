{
 "cells": [
  {
   "cell_type": "code",
   "id": "initial_id",
   "metadata": {
    "collapsed": true,
    "ExecuteTime": {
     "end_time": "2025-03-24T14:19:23.444270Z",
     "start_time": "2025-03-24T14:19:23.441767Z"
    }
   },
   "source": [
    "import os\n",
    "import pandas as pd\n",
    "import csv\n",
    "import time\n",
    "import matplotlib.pyplot as plt\n",
    "from matplotlib.ticker import StrMethodFormatter\n",
    "import random\n",
    "import zCurve as z\n",
    "import math"
   ],
   "execution_count": 17,
   "outputs": []
  },
  {
   "metadata": {
    "ExecuteTime": {
     "end_time": "2025-03-24T14:19:23.469749Z",
     "start_time": "2025-03-24T14:19:23.466146Z"
    }
   },
   "cell_type": "code",
   "source": [
    "def get_files_in_folder(folder_path):\n",
    "    try:\n",
    "        files = [folder_path + \"/\" + f for f in os.listdir(folder_path) if os.path.isfile(os.path.join(folder_path, f))]\n",
    "        return files\n",
    "\n",
    "    except Exception as e:\n",
    "        print(f\"An error occurred while getting files in the folder: {str(e)}\")\n",
    "        return []\n",
    "    \n",
    "def compute_acceleration(pos_prev, pos_current, pos_next, dt):\n",
    "    ax = (pos_next[0] - 2 * pos_current[0] + pos_prev[0]) / (dt ** 2)\n",
    "    ay = (pos_next[1] - 2 * pos_current[1] + pos_prev[1]) / (dt ** 2)\n",
    "    return ax, ay\n",
    "\n",
    "def compute_relative_acceleration(pos_prev, pos_current, pos_next, dt):\n",
    "    # Compute velocity vectors\n",
    "    vx1 = (pos_current[0] - pos_prev[0]) / dt\n",
    "    vy1 = (pos_current[1] - pos_prev[1]) / dt\n",
    "    vx2 = (pos_next[0] - pos_current[0]) / dt\n",
    "    vy2 = (pos_next[1] - pos_current[1]) / dt\n",
    "\n",
    "    # Compute the change in velocity (acceleration vector)\n",
    "    ax = (vx2 - vx1) / dt\n",
    "    ay = (vy2 - vy1) / dt\n",
    "\n",
    "    # Velocity direction (unit vector) at the middle position\n",
    "    v_mag = math.hypot(vx1, vy1)\n",
    "    if v_mag == 0:\n",
    "        return 0.0, 0.0  # No motion\n",
    "\n",
    "    # Tangential direction (unit vector)\n",
    "    tx = vx1 / v_mag\n",
    "    ty = vy1 / v_mag\n",
    "\n",
    "    # Normal direction (perpendicular to tangential)\n",
    "    nx = -ty\n",
    "    ny = tx\n",
    "\n",
    "    # Project acceleration onto tangential and normal directions\n",
    "    a_tangential = ax * tx + ay * ty\n",
    "    a_normal = ax * nx + ay * ny\n",
    "\n",
    "    return a_normal, a_tangential"
   ],
   "id": "35b40b454504714",
   "execution_count": 18,
   "outputs": []
  },
  {
   "metadata": {
    "ExecuteTime": {
     "end_time": "2025-03-24T14:19:23.480466Z",
     "start_time": "2025-03-24T14:19:23.476719Z"
    }
   },
   "cell_type": "code",
   "source": [
    "def generate_turning_data_3(num_points=100, left=True, initial_angle=math.pi/2, maxangle=math.pi/2, filename=\"trajectory.csv\", initial_x=0, initial_y=0, initial_speed=5, changespeed=False):\n",
    "    # Initialize variables\n",
    "    position_x, position_y = initial_x, initial_y  # Start position\n",
    "    previous_x, previous_y = initial_x, initial_y  # Start position\n",
    "    \n",
    "    turning_angle = initial_angle\n",
    "    speed = initial_speed\n",
    "    \n",
    "    timestamp = 0\n",
    "    delta_t = 4000  # Time step in microseconds\n",
    "    padding = num_points//5\n",
    "\n",
    "    # Open CSV file for writing\n",
    "    with open(filename, mode='w', newline='') as file:\n",
    "        writer = csv.writer(file, delimiter=';')\n",
    "        writer.writerow([\"sampleTimeStamp.seconds\", \"sampleTimeStamp.microseconds\", \"x\", \"y\", \"speed\",\n",
    "                         \"turning_angle\", \"accel_x\", \"accel_y\"])\n",
    "\n",
    "        for i in range(-2, num_points):\n",
    "            if padding < i < num_points - padding:     \n",
    "                turning_angle = initial_angle - (i-padding)/(num_points-2*padding) * maxangle * (-1 if left else 1)\n",
    "\n",
    "            speed = initial_speed + (2 * i/num_points if changespeed else 0) #+ 0.01*math.sin(i/num_points*7*math.pi)\n",
    "            previous_previous_x = previous_x\n",
    "            previous_previous_y = previous_y\n",
    "            previous_x = position_x\n",
    "            previous_y = position_y\n",
    "            position_x = position_x + math.cos(turning_angle) * speed * 16/delta_t\n",
    "            position_y = position_y + math.sin(turning_angle) * speed * 16/delta_t\n",
    "            \n",
    "            acceleration_x, acceleration_y = compute_relative_acceleration((previous_previous_x, previous_previous_y), (previous_x, previous_y), (position_x, position_y), 50/delta_t)\n",
    "            \n",
    "            if i < 0:\n",
    "                continue\n",
    "            \n",
    "            writer.writerow([int(timestamp / 1000000), timestamp % 1000000, position_x, position_y, speed, turning_angle, acceleration_x, acceleration_y])\n",
    "            timestamp += delta_t\n",
    "    \n",
    "    return turning_angle, speed, position_x, position_y"
   ],
   "id": "bde0118b99e247a0",
   "execution_count": 19,
   "outputs": []
  },
  {
   "metadata": {
    "ExecuteTime": {
     "end_time": "2025-03-24T14:19:23.529900Z",
     "start_time": "2025-03-24T14:19:23.481818Z"
    }
   },
   "cell_type": "code",
   "source": [
    "length_tramo = 100\n",
    "turning_angle = math.pi/2\n",
    "speed = 5\n",
    "end_x, end_y = 0, 0\n",
    "nexamples = 100\n",
    "\n",
    "left = False\n",
    "keyword=(\"left\" if left else \"right\")+\"turn\"\n",
    "\n",
    "for id in range(nexamples):\n",
    "    maxangle = (id+1)*math.pi/nexamples\n",
    "    filename = \"results/synthetic_turns_data/\"+keyword+\"_\"+str(id)+\".csv\"\n",
    "    generate_turning_data_3(num_points=length_tramo, left=left, initial_angle=turning_angle, maxangle=maxangle, filename=filename, initial_x=end_x, initial_y=end_y, initial_speed=speed, changespeed=False)"
   ],
   "id": "90e1a0809fdf3dc7",
   "execution_count": 20,
   "outputs": []
  },
  {
   "metadata": {
    "ExecuteTime": {
     "end_time": "2025-03-24T14:19:25.721833Z",
     "start_time": "2025-03-24T14:19:23.530534Z"
    }
   },
   "cell_type": "code",
   "source": [
    "common_figsize = (6, 3)  # Common figure size for all plots\n",
    "output_dir = \"results/synthetic_turns_data/plots\"  # Folder to save plots\n",
    "os.makedirs(output_dir, exist_ok=True)\n",
    "\n",
    "# ===============================\n",
    "# Data File Processing\n",
    "# ===============================\n",
    "data_files = get_files_in_folder(\"results/synthetic_turns_data\")\n",
    "\n",
    "# ===============================\n",
    "# DATA FILE PROCESSING\n",
    "# ===============================\n",
    "for file_path in data_files[0::10]:\n",
    "    if \".csv\" not in file_path:\n",
    "        continue\n",
    "    \n",
    "    print(file_path)\n",
    "\n",
    "    # Get the file basename without extension\n",
    "    file_basename = os.path.splitext(os.path.basename(file_path))[0]\n",
    "    data = pd.read_csv(file_path, sep=';')\n",
    "    \n",
    "    data['timestamp'] = data['sampleTimeStamp.seconds'] * 1_000_000 + data['sampleTimeStamp.microseconds']\n",
    "\n",
    "    # ===============================\n",
    "    # Plot 1: Vehicle Position Colored by Speed\n",
    "    # ===============================    \n",
    "    plt.figure(figsize=common_figsize)\n",
    "    plt.scatter(data['x'], data['y'], c=data['speed'], cmap='viridis', s=20, vmin=5, vmax=7)\n",
    "    plt.colorbar(label=\"Speed (m/s)\")\n",
    "    plt.scatter(data.iloc[-1]['x'], data.iloc[-1]['y'], s=100, color=\"black\", edgecolors=\"white\")\n",
    "    plt.xlabel(\"Longitude (position x)\")\n",
    "    plt.ylabel(\"Latitude (position y)\")\n",
    "    plt.title(f\"Vehicle trajectory: {file_basename}\")\n",
    "    plt.axis('equal')\n",
    "    plot1_filename = os.path.join(output_dir, f\"{file_basename}_position.png\")\n",
    "    plt.savefig(plot1_filename, bbox_inches=\"tight\")\n",
    "    plt.show()\n",
    "    plt.close()\n",
    "    \n",
    "    accel_x = (data[\"accel_x\"] + 0)\n",
    "    accel_y = (data[\"accel_y\"] + 0)\n",
    "   \n",
    "    plt.figure(figsize=common_figsize)\n",
    "    plt.plot(data['timestamp']/1000000.0, accel_x, label=\"Accel X\", color='red', linewidth=1.5)\n",
    "    plt.plot(data['timestamp']/1000000.0, accel_y, label=\"Accel Y\", color='green', linewidth=1.5)\n",
    "    plt.xlabel(\"Time (seconds)\")\n",
    "    plt.ylabel(\"Acceleration (m/s²)\")\n",
    "    plt.title(f\"Acceleration\")\n",
    "    plt.grid(True, linestyle='--', linewidth=0.5, alpha=0.7)\n",
    "    plt.legend(loc=\"upper right\")\n",
    "    # plot2_filename = os.path.join(output_dir, f\"{file_basename}_signals.png\")\n",
    "    # plt.savefig(plot2_filename, bbox_inches=\"tight\")\n",
    "    plt.show()\n",
    "    plt.close()"
   ],
   "id": "45c71a47b8d9a898",
   "execution_count": 21,
   "outputs": []
  },
  {
   "metadata": {
    "ExecuteTime": {
     "end_time": "2025-03-24T14:19:26.327924Z",
     "start_time": "2025-03-24T14:19:25.723126Z"
    }
   },
   "cell_type": "code",
   "source": [
    "listofcsps = []\n",
    "\n",
    "# ===============================\n",
    "# DATA FILE PROCESSING\n",
    "# ===============================\n",
    "for file_path in data_files:\n",
    "    if \".csv\" not in file_path:\n",
    "        continue\n",
    "    \n",
    "    # Get the file basename without extension\n",
    "    file_basename = os.path.splitext(os.path.basename(file_path))[0]\n",
    "    data = pd.read_csv(file_path, sep=';')\n",
    "    \n",
    "    data['timestamp'] = data['sampleTimeStamp.seconds'] * 1_000_000 + data['sampleTimeStamp.microseconds']\n",
    "\n",
    "    accel_x = (data[\"accel_x\"] + 10) * 100.0\n",
    "    accel_y = (data[\"accel_y\"] + 10) * 100.0\n",
    "\n",
    "    # -------------------------------\n",
    "    # Build Morton (Z-order) Index (if chosen or if building both)\n",
    "    # -------------------------------\n",
    "    data['Morton_Index'] = [z.interlace(int(x), int(y), bits_per_dim=10) for x, y in zip(accel_x, accel_y)]\n",
    "    listofcsps += [data['Morton_Index'].tolist()]"
   ],
   "id": "f62a664db90ab099",
   "execution_count": 22,
   "outputs": []
  },
  {
   "metadata": {
    "ExecuteTime": {
     "end_time": "2025-03-24T14:19:26.437354Z",
     "start_time": "2025-03-24T14:19:26.328803Z"
    }
   },
   "cell_type": "code",
   "source": [
    "nbins = 30 # more bins = thinner bars\n",
    "barthreshold = 5 # higher threshold = fewer bars\n",
    "\n",
    "allmortonindices = []\n",
    "for csp in listofcsps:\n",
    "    allmortonindices += csp\n",
    "mortonindexmin = min(allmortonindices)\n",
    "mortonindexmax = max(allmortonindices)\n",
    "totalrange = mortonindexmax - mortonindexmin\n",
    "margins = totalrange/50.0\n",
    "numsignals = len(listofcsps)\n",
    "\n",
    "bincounter = [0]*nbins\n",
    "for m in allmortonindices:\n",
    "    assigned = False\n",
    "    for bin in range(nbins):\n",
    "        binmin = mortonindexmin + totalrange/nbins*bin\n",
    "        binmax = binmin + totalrange/nbins\n",
    "        if binmin <= m < binmax:\n",
    "            bincounter[bin] += 1\n",
    "            assigned = True\n",
    "    if not assigned:\n",
    "        bincounter[-1] += 1"
   ],
   "id": "861fd955e40c68a5",
   "execution_count": 23,
   "outputs": []
  },
  {
   "metadata": {
    "ExecuteTime": {
     "end_time": "2025-03-24T14:19:26.923306Z",
     "start_time": "2025-03-24T14:19:26.438202Z"
    }
   },
   "cell_type": "code",
   "source": [
    "cmap = plt.get_cmap('rainbow')\n",
    "colors = [cmap(1/(len(listofcsps)-1)*i) for i in range(len(listofcsps))]\n",
    "decforyaxis = StrMethodFormatter('{x:,.1f}')\n",
    "\n",
    "plt.figure()\n",
    "plt.bar([totalrange/nbins/2+mortonindexmin+totalrange/(nbins)*x for x in range(nbins)], [1 if b > barthreshold else 0 for b in bincounter], width=totalrange/nbins, color=\"lightgray\")\n",
    "for i, csp in enumerate(listofcsps):\n",
    "    ranges = [x / (len(csp) - 1) for x in range(len(csp))]\n",
    "    plt.scatter(csp, ranges, color=colors[i], s=12, label=\"Manoeuvre \"+str(i))\n",
    "plt.ylabel(\"Timesteps (normalised)\")\n",
    "plt.ylim(0, 1)\n",
    "plt.gca().yaxis.set_major_formatter(decforyaxis)\n",
    "plt.xlabel(\"Morton index\")\n",
    "plt.xlim(mortonindexmin-margins, mortonindexmax+margins)\n",
    "plt.title(\"G-CSPs (\"+str(nbins)+\" bins and \" + str(barthreshold)+\"+ bars per bin)\")\n",
    "\n",
    "#plt.xlim(650000, 1100000) #set once the CSPs are analysed!\n",
    "# plt.legend(loc='best')\n",
    "\n",
    "plt.savefig(\"results/synthetic_turns_data/plots/\"+keyword+\"_gcsp_\"+str(nbins)+\"bins.png\")\n",
    "plt.show()\n",
    "plt.close()"
   ],
   "id": "20d91ad5b4767834",
   "execution_count": 24,
   "outputs": []
  }
 ],
 "metadata": {
  "kernelspec": {
   "display_name": "Python 3",
   "language": "python",
   "name": "python3"
  },
  "language_info": {
   "codemirror_mode": {
    "name": "ipython",
    "version": 2
   },
   "file_extension": ".py",
   "mimetype": "text/x-python",
   "name": "python",
   "nbconvert_exporter": "python",
   "pygments_lexer": "ipython2",
   "version": "2.7.6"
  }
 },
 "nbformat": 4,
 "nbformat_minor": 5
}
