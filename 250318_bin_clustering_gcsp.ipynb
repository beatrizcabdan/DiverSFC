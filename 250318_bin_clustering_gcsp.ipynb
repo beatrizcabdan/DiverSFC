{
 "cells": [
  {
   "metadata": {},
   "cell_type": "markdown",
   "source": "The code in this repository is largely based on the work of Olga Ratushniak and Svitlana Myroshnychenko during their MSc thesis. For more information, please contact Beatriz Cabrero-Daniel.",
   "id": "638588cdc3675e82"
  },
  {
   "metadata": {},
   "cell_type": "markdown",
   "source": "Some imports:",
   "id": "616fb01064b0d9d6"
  },
  {
   "cell_type": "code",
   "id": "initial_id",
   "metadata": {
    "collapsed": true,
    "ExecuteTime": {
     "end_time": "2025-03-21T10:24:04.491829Z",
     "start_time": "2025-03-21T10:24:04.034302Z"
    }
   },
   "source": [
    "import matplotlib.pyplot as plt\n",
    "from matplotlib.ticker import StrMethodFormatter\n",
    "import math"
   ],
   "execution_count": 1,
   "outputs": []
  },
  {
   "metadata": {},
   "cell_type": "markdown",
   "source": "Please configure here how many bins should the Generic-CSP (G-CSP) have and what is the threshold for adding a bar in a CSP (barcode) to the G-CSP:",
   "id": "98e1d3d63953e809"
  },
  {
   "metadata": {
    "ExecuteTime": {
     "end_time": "2025-03-21T10:24:04.494813Z",
     "start_time": "2025-03-21T10:24:04.492862Z"
    }
   },
   "cell_type": "code",
   "source": [
    "nbins = 20 # more bins = thinner bars\n",
    "barthreshold = 5 # higher threshold = fewer bars"
   ],
   "id": "eb85658c8acc585c",
   "execution_count": 2,
   "outputs": []
  },
  {
   "metadata": {},
   "cell_type": "markdown",
   "source": "Creating some fake CSPs to illustrate the CSP (barcode) clustering mechanism. Feel free to play around with the signals.",
   "id": "435a06a2a5696c60"
  },
  {
   "metadata": {
    "ExecuteTime": {
     "end_time": "2025-03-21T10:24:04.498059Z",
     "start_time": "2025-03-21T10:24:04.495803Z"
    }
   },
   "cell_type": "code",
   "source": [
    "listofcsps = []\n",
    "listofcsps += [[40*(1+math.sin(i/10*math.pi)) for i in range(10)]]\n",
    "listofcsps += [[40*(1+math.cos(i/50*math.pi)) for i in range(100)]]\n",
    "listofcsps += [[10*(1+math.sin(i/20*math.pi)) for i in range(100)]]\n",
    "listofcsps += [[5*(1+math.sin(i/10*math.pi)) for i in range(50)]]"
   ],
   "id": "df28ceb5e68b92a3",
   "execution_count": 3,
   "outputs": []
  },
  {
   "metadata": {},
   "cell_type": "markdown",
   "source": "Configuration settings for the figures created below (you can ignore this):",
   "id": "25a564664c6c2bd7"
  },
  {
   "metadata": {
    "ExecuteTime": {
     "end_time": "2025-03-21T10:24:04.501194Z",
     "start_time": "2025-03-21T10:24:04.498877Z"
    }
   },
   "cell_type": "code",
   "source": [
    "figsize = (7, 3)\n",
    "cmap = plt.get_cmap('rainbow')\n",
    "colors = [cmap(1/(len(listofcsps)-1)*i) for i in range(len(listofcsps))]\n",
    "decforyaxis = StrMethodFormatter('{x:,.1f}')\n",
    "allmortonindices = []\n",
    "for csp in listofcsps:\n",
    "    allmortonindices += csp\n",
    "mortonindexmin = min(allmortonindices)\n",
    "mortonindexmax = max(allmortonindices)\n",
    "totalrange = mortonindexmax - mortonindexmin\n",
    "margins = totalrange/50.0"
   ],
   "id": "9ef0ff004d52ed6",
   "execution_count": 4,
   "outputs": []
  },
  {
   "metadata": {},
   "cell_type": "markdown",
   "source": "Plotting the generated CSPs together:",
   "id": "f41d7707a1f821dc"
  },
  {
   "metadata": {
    "ExecuteTime": {
     "end_time": "2025-03-21T10:24:04.850291Z",
     "start_time": "2025-03-21T10:24:04.502817Z"
    }
   },
   "cell_type": "code",
   "source": [
    "plt.figure(figsize=figsize)\n",
    "for i, csp in enumerate(listofcsps):\n",
    "    ranges = [x/(len(csp)-1) for x in range(len(csp))]\n",
    "    plt.bar(csp, [1 for _ in range(len(csp))], width=totalrange/200, color=colors[i], alpha=0.1)\n",
    "for i, csp in enumerate(listofcsps):\n",
    "    ranges = [x / (len(csp) - 1) for x in range(len(csp))]\n",
    "    plt.scatter(csp, ranges, color=colors[i], edgecolor=\"k\", s=12, label=\"Manoeuvre \"+str(i))\n",
    "plt.ylabel(\"Timesteps (normalised)\")\n",
    "plt.ylim(0, 1)\n",
    "plt.gca().yaxis.set_major_formatter(decforyaxis)\n",
    "plt.xlabel(\"Morton index\")\n",
    "plt.xlim(mortonindexmin-margins, mortonindexmax+margins)\n",
    "plt.legend()\n",
    "plt.tight_layout(rect=[0, 0, 1, 0.95])\n",
    "plt.title(\"Overlay of CSPs of similar manoeuvres\")\n",
    "plt.savefig(\"results/generic_csps/1csps.png\")\n",
    "plt.show()\n",
    "plt.close()"
   ],
   "id": "d1e0544c107efc58",
   "execution_count": 5,
   "outputs": []
  },
  {
   "metadata": {},
   "cell_type": "markdown",
   "source": "Count bars in CSPs (barcodes) in each bin (same width):",
   "id": "c340cf72efd9a19c"
  },
  {
   "metadata": {
    "ExecuteTime": {
     "end_time": "2025-03-21T10:24:04.856054Z",
     "start_time": "2025-03-21T10:24:04.852210Z"
    }
   },
   "cell_type": "code",
   "source": [
    "bincounter = [0]*nbins\n",
    "for m in allmortonindices:\n",
    "    assigned = False\n",
    "    for bin in range(nbins):\n",
    "        binmin = mortonindexmin + totalrange/nbins*bin\n",
    "        binmax = binmin + totalrange/nbins\n",
    "        if binmin <= m < binmax:\n",
    "            bincounter[bin] += 1\n",
    "            assigned = True\n",
    "    if not assigned:\n",
    "        bincounter[-1] += 1"
   ],
   "id": "dd47d15d8a3fdef5",
   "execution_count": 6,
   "outputs": []
  },
  {
   "metadata": {},
   "cell_type": "markdown",
   "source": "Draw the histogram for the bars in the CSPs (aggregated):",
   "id": "e791f3a6051e18c9"
  },
  {
   "metadata": {
    "ExecuteTime": {
     "end_time": "2025-03-21T10:24:04.953115Z",
     "start_time": "2025-03-21T10:24:04.857106Z"
    }
   },
   "cell_type": "code",
   "source": [
    "plt.figure(figsize=figsize)\n",
    "plt.hist(allmortonindices, density=True, color=\"gray\", bins=nbins)\n",
    "plt.ylabel(\"Frequency\")\n",
    "plt.gca().yaxis.set_major_formatter(decforyaxis)\n",
    "plt.xlabel(\"Morton index\")\n",
    "plt.xlim(mortonindexmin-margins, mortonindexmax+margins)\n",
    "plt.title(\"Frequency of bars in CSPs (with \"+str(nbins)+\" bins)\")\n",
    "plt.tight_layout()\n",
    "plt.savefig(\"results/generic_csps/2barfreq_nbins\"+str(nbins)+\".png\")\n",
    "plt.show()\n",
    "plt.close()"
   ],
   "id": "a6121960f43866c0",
   "execution_count": 7,
   "outputs": []
  },
  {
   "metadata": {},
   "cell_type": "markdown",
   "source": "Draw the generated G-CSP based on the frequency (the amount of bars in each of the bins):",
   "id": "da47c4aef072cccc"
  },
  {
   "metadata": {
    "ExecuteTime": {
     "end_time": "2025-03-21T10:24:05.144410Z",
     "start_time": "2025-03-21T10:24:04.954996Z"
    }
   },
   "cell_type": "code",
   "source": [
    "plt.figure(figsize=figsize)\n",
    "plt.bar([totalrange/nbins/2+mortonindexmin+totalrange/(nbins)*x for x in range(nbins)], [1 if b > barthreshold else 0 for b in bincounter], width=totalrange/nbins, color=\"lightgray\")\n",
    "for i, csp in enumerate(listofcsps):\n",
    "    ranges = [x / (len(csp) - 1) for x in range(len(csp))]\n",
    "    plt.scatter(csp, ranges, color=colors[i], edgecolor=\"k\", s=12, label=\"Manoeuvre \"+str(i))\n",
    "plt.ylabel(\"Timesteps (normalised)\")\n",
    "plt.ylim(0, 1)\n",
    "plt.gca().yaxis.set_major_formatter(decforyaxis)\n",
    "plt.xlabel(\"Morton index\")\n",
    "plt.xlim(mortonindexmin-margins, mortonindexmax+margins)\n",
    "plt.legend()\n",
    "plt.tight_layout(rect=[0, 0, 1, 0.95])\n",
    "plt.title(\"G-CSPs (\"+str(nbins)+\" bins and \" + str(barthreshold)+\"+ bars per bin)\")\n",
    "plt.savefig(\"results/generic_csps/3gcsps_nbins\"+str(nbins)+\".png\")\n",
    "plt.show()\n",
    "plt.close()"
   ],
   "id": "ca6f6526711b4586",
   "execution_count": 8,
   "outputs": []
  }
 ],
 "metadata": {
  "kernelspec": {
   "display_name": "Python 3",
   "language": "python",
   "name": "python3"
  },
  "language_info": {
   "codemirror_mode": {
    "name": "ipython",
    "version": 2
   },
   "file_extension": ".py",
   "mimetype": "text/x-python",
   "name": "python",
   "nbconvert_exporter": "python",
   "pygments_lexer": "ipython2",
   "version": "2.7.6"
  }
 },
 "nbformat": 4,
 "nbformat_minor": 5
}
