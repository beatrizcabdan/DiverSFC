{
 "cells": [
  {
   "cell_type": "code",
   "id": "f72cff90",
   "metadata": {
    "ExecuteTime": {
     "end_time": "2025-10-31T08:31:13.387797Z",
     "start_time": "2025-10-31T08:30:57.925862Z"
    }
   },
   "source": [
    "import os\n",
    "import pandas as pd\n",
    "import csv\n",
    "import time\n",
    "import matplotlib.pyplot as plt\n",
    "import numpy as np\n",
    "import random\n",
    "import math\n",
    "import re\n",
    "from sklearn.neighbors import KNeighborsClassifier, NearestNeighbors\n",
    "from sklearn.cluster import KMeans"
   ],
   "outputs": [],
   "execution_count": 6
  },
  {
   "cell_type": "code",
   "id": "2a59a159",
   "metadata": {
    "ExecuteTime": {
     "end_time": "2025-10-31T08:31:13.393595Z",
     "start_time": "2025-10-31T08:31:13.390197Z"
    }
   },
   "source": [
    "def get_files_in_folder(folder_path):\n",
    "    try:\n",
    "        files = [folder_path + \"/\" + f for f in os.listdir(folder_path) if os.path.isfile(os.path.join(folder_path, f))]\n",
    "        return files\n",
    "    except Exception as e:\n",
    "        print(f\"An error occurred while getting files in the folder: {str(e)}\")\n",
    "        return []\n",
    "    \n",
    "def get_samples(data_files):\n",
    "\n",
    "    csps = []\n",
    "    timestamps = []\n",
    "    samples = []\n",
    "    \n",
    "    for file_path in data_files:\n",
    "        #if maneuver not in file_path or \"speed\" in file_path:\n",
    "            #continue\n",
    "        #print(file_path)\n",
    "\n",
    "        # Load data \n",
    "        data = pd.read_csv(file_path, sep=\";\")\n",
    "        \n",
    "        csps_tmp =  data[\"Morton_Index\"].to_list()\n",
    "        csps_tmp = csps_tmp[200:-500]\n",
    "        timestamps_tmp = data['Time (seconds)'] + data['Time (microseconds)'] / (10**6)\n",
    "        timestamps_tmp = timestamps_tmp[200:-500]\n",
    "        end_ind = int(len(csps_tmp) / 2)\n",
    "        csps = csps + csps_tmp[:end_ind]\n",
    "        timestamps = timestamps + timestamps_tmp.to_list()[:end_ind]\n",
    "\n",
    "    \n",
    "    samples.append(timestamps)\n",
    "    samples.append(csps)\n",
    "    return np.array(samples).T\n"
   ],
   "outputs": [],
   "execution_count": 7
  },
  {
   "metadata": {},
   "cell_type": "markdown",
   "source": "Selecting the files (types, manoeuvres) used for the clustering of the points in the CSPs:",
   "id": "abadb5c8a09f3573"
  },
  {
   "cell_type": "code",
   "id": "174b27b2",
   "metadata": {
    "ExecuteTime": {
     "end_time": "2025-10-31T08:31:13.568934Z",
     "start_time": "2025-10-31T08:31:13.394524Z"
    }
   },
   "source": [
    "parentFolder = 'results/synthetic_lanechangecitos_morton'\n",
    "data_files_old = []\n",
    "\n",
    "for direction in ['lcright', 'lcleft']:\n",
    "    for maneuver in ['fixedmaxangle', 'fixedspeed']:\n",
    "        tmp_array = [f'{direction}_{maneuver}_{i}.csv' for i in range(1,6)]\n",
    "        data_files_old = data_files_old + tmp_array\n",
    "data_files = [parentFolder + '/' + data_file for data_file in data_files_old]\n",
    "\n",
    "# THIS SELECTS ALL THE FILES INSTEAD\n",
    "data_files = get_files_in_folder(parentFolder)\n",
    "data_files.sort()\n",
    "data_files.reverse()\n",
    "n_clusters = 4\n",
    "\n",
    "X = get_samples(data_files=data_files)\n",
    "factor= 1\n",
    "X[:,0] *= factor\n",
    "clusters = KMeans(n_clusters=n_clusters, random_state=0, n_init=\"auto\").fit(X)       # Fix seed by random_state = (int)\n",
    "y_pred = clusters.predict(X)\n",
    "X[:,0] /= factor\n",
    "print(np.shape(X))\n"
   ],
   "outputs": [
    {
     "name": "stdout",
     "output_type": "stream",
     "text": [
      "(36000, 2)\n"
     ]
    }
   ],
   "execution_count": 8
  },
  {
   "cell_type": "code",
   "id": "8856a76f",
   "metadata": {
    "ExecuteTime": {
     "end_time": "2025-10-31T08:31:13.589379Z",
     "start_time": "2025-10-31T08:31:13.570954Z"
    }
   },
   "source": [
    "labels = clusters.labels_\n",
    "\n",
    "lower_bounds = []\n",
    "upper_bounds = []\n",
    "clabels = []\n",
    "for k in range(n_clusters):\n",
    "    indices = [j for j, label in enumerate(clusters.labels_) if label == k]\n",
    "    tmp_arr = []\n",
    "    for index in indices:\n",
    "        tmp_arr.append(X[index, 1])\n",
    "    clabels.append(k)\n",
    "    lower_bounds.append(np.min(np.array(tmp_arr)))\n",
    "    upper_bounds.append(np.max(np.array(tmp_arr)))\n",
    "\n",
    "bounds = sorted(zip(lower_bounds, upper_bounds, clabels))\n",
    "print(bounds)"
   ],
   "outputs": [
    {
     "name": "stdout",
     "output_type": "stream",
     "text": [
      "[(np.float64(27607.0), np.float64(31406.0), 1), (np.float64(49489.0), np.float64(51578.0), 0), (np.float64(51664.0), np.float64(52686.0), 2), (np.float64(52691.0), np.float64(55816.0), 3)]\n"
     ]
    }
   ],
   "execution_count": 9
  },
  {
   "cell_type": "code",
   "id": "44204295",
   "metadata": {
    "ExecuteTime": {
     "end_time": "2025-10-31T08:31:14.012908Z",
     "start_time": "2025-10-31T08:31:13.590355Z"
    }
   },
   "source": [
    "\n",
    "fig, ax = plt.subplots()\n",
    "for i in range(n_clusters):\n",
    "    x_min, x_max = bounds[i][0], bounds[i][1]\n",
    "    y_min, y_max = np.min(X[:,0]), np.max(X[:,0])\n",
    "    ax.vlines(x=x_min, ymin=y_min, ymax=y_max, lw=0.3, color='black')\n",
    "    ax.vlines(x=x_max, ymin=y_min, ymax=y_max, lw=0.3, color='black')\n",
    "    ax.fill_between([x_min, x_max], y_min, y_max,  alpha=0.3, color='grey')\n",
    "\n",
    "secax = ax.secondary_xaxis('top')\n",
    "secax.set_xticks(ticks=[(bounds[i][0] + bounds[i][1])/2 for i in range(n_clusters)], labels=[f'$c_{i}$' for i in range(n_clusters)])\n",
    "ax.scatter(X[:,1], X[:,0], c = y_pred, s=0.5)\n",
    "ax.set_ylabel('Time (seconds)')\n",
    "ax.set_xlabel('CSP')\n",
    "plt.show()"
   ],
   "outputs": [
    {
     "data": {
      "text/plain": [
       "<Figure size 640x480 with 1 Axes>"
      ],
      "image/png": "[encoded data removed]"
     },
     "metadata": {},
     "output_type": "display_data"
    }
   ],
   "execution_count": 10
  },
  {
   "cell_type": "code",
   "id": "8c41abc3",
   "metadata": {
    "ExecuteTime": {
     "end_time": "2025-10-31T08:31:14.098134Z",
     "start_time": "2025-10-31T08:31:14.013669Z"
    }
   },
   "source": [
    "data_files_maneuver = ['results/synthetic_lanechangecitos_morton/lcright_fixedmaxangle_speeddown_3.csv',\n",
    "                       'results/synthetic_lanechangecitos_morton/lcright_fixedmaxangle_speedup_3.csv',\n",
    "                       'results/synthetic_lanechangecitos_morton/lcleft_fixedmaxangle_speeddown_3.csv',\n",
    "                       'results/synthetic_lanechangecitos_morton/lcleft_fixedmaxangle_speedup_3.csv']\n",
    "color_labels = ['deeppink', 'red', 'darkturquoise', 'blue']\n",
    "\n",
    "fig, ax = plt.subplots()\n",
    "for i in range(n_clusters):\n",
    "    x_min, x_max = bounds[i][0], bounds[i][1]\n",
    "    y_min, y_max = np.min(X[:,0]), np.max(X[:,0])\n",
    "    ax.vlines(x=x_min, ymin=y_min, ymax=y_max, lw=0.3, color='black')\n",
    "    ax.vlines(x=x_max, ymin=y_min, ymax=y_max, lw=0.3, color='black')\n",
    "    ax.fill_between([x_min, x_max], y_min, y_max,  alpha=0.3, color='grey')\n",
    "\n",
    "for i,data_file in enumerate(data_files_maneuver[:]):\n",
    "    X_single = get_samples(data_files=[data_file])\n",
    "    ax.scatter(X_single[:,1], X_single[:,0], color = color_labels[i], s=0.5, label=data_file)\n",
    "    \n",
    "secax = ax.secondary_xaxis('top')\n",
    "secax.set_xticks(ticks=[(bounds[i][0] + bounds[i][1])/2 for i in range(n_clusters)], labels=[f'$c_{i}$' for i in range(n_clusters)])\n",
    "ax.set_ylabel('Time (seconds)')\n",
    "ax.set_xlabel('CSP')\n",
    "\n",
    "plt.show()"
   ],
   "outputs": [
    {
     "data": {
      "text/plain": [
       "<Figure size 640x480 with 1 Axes>"
      ],
      "image/png": "[encoded data removed]"
     },
     "metadata": {},
     "output_type": "display_data"
    }
   ],
   "execution_count": 11
  },
  {
   "cell_type": "code",
   "id": "6ad5e683",
   "metadata": {
    "ExecuteTime": {
     "end_time": "2025-10-31T08:31:14.102614Z",
     "start_time": "2025-10-31T08:31:14.098987Z"
    }
   },
   "source": [
    "def find_bin_sequence(data_files):   \n",
    "    \n",
    "    X_all = get_samples(data_files=data_files)\n",
    "    lower_bounds, upper_bounds = [], []\n",
    "    clabels = []\n",
    "    \n",
    "    n_clusters = len(np.unique(clusters.labels_))\n",
    "    for k in range(n_clusters):\n",
    "        indices = [j for j, label in enumerate(clusters.labels_) if label == k]\n",
    "        tmp_arr = []\n",
    "        for index in indices:\n",
    "            tmp_arr.append(X_all[index, 1])\n",
    "        clabels.append(k)\n",
    "        lower_bounds.append(np.min(np.array(tmp_arr)))\n",
    "        upper_bounds.append(np.max(np.array(tmp_arr)))\n",
    "\n",
    "    bounds = sorted(zip(lower_bounds, upper_bounds, clabels))\n",
    "    transform_labels = {}\n",
    "\n",
    "    for i, el in enumerate(bounds):\n",
    "        transform_labels[f'{i}'] = el[2]\n",
    "\n",
    "    res_dict = {}\n",
    "    for data_file in data_files:\n",
    "        x_single = get_samples(data_files=[data_file])\n",
    "        y_single = clusters.predict(x_single)\n",
    "        bin_sequence = [transform_labels[f'{y_single[0]}']]\n",
    "        \n",
    "        for i in range(1, len(y_single)):\n",
    "            if y_single[i] != y_single[i-1]:\n",
    "                bin_sequence.append(transform_labels[f'{y_single[i]}'])\n",
    "\n",
    "        basename = os.path.basename(data_file)\n",
    "        res_dict[basename] = bin_sequence.copy()\n",
    "    \n",
    "    return res_dict"
   ],
   "outputs": [],
   "execution_count": 12
  },
  {
   "cell_type": "code",
   "id": "4a954643",
   "metadata": {
    "ExecuteTime": {
     "end_time": "2025-10-31T08:32:56.361742Z",
     "start_time": "2025-10-31T08:32:56.198306Z"
    }
   },
   "source": [
    "activation_dict = find_bin_sequence(data_files=data_files)\n",
    "\n",
    "for basename in data_files_maneuver:\n",
    "    file = basename.split(\"/\")[-1]\n",
    "    print(file, activation_dict[file])"
   ],
   "outputs": [
    {
     "name": "stdout",
     "output_type": "stream",
     "text": [
      "lcright_fixedmaxangle_speeddown_3.csv [1, 2, 3, 2, 3, 2, 1, 0, 1]\n",
      "lcright_fixedmaxangle_speedup_3.csv [1, 2, 3, 2, 1, 0, 1]\n",
      "lcleft_fixedmaxangle_speeddown_3.csv [1, 0, 1, 2, 3, 2, 1]\n",
      "lcleft_fixedmaxangle_speedup_3.csv [1, 0, 1, 2, 3, 2, 3, 2, 1]\n"
     ]
    }
   ],
   "execution_count": 16
  },
  {
   "metadata": {},
   "cell_type": "code",
   "outputs": [],
   "execution_count": null,
   "source": "",
   "id": "18e0282c0794dce2"
  }
 ],
 "metadata": {
  "kernelspec": {
   "display_name": "tif345-env",
   "language": "python",
   "name": "python3"
  },
  "language_info": {
   "codemirror_mode": {
    "name": "ipython",
    "version": 3
   },
   "file_extension": ".py",
   "mimetype": "text/x-python",
   "name": "python",
   "nbconvert_exporter": "python",
   "pygments_lexer": "ipython3",
   "version": "3.12.7"
  }
 },
 "nbformat": 4,
 "nbformat_minor": 5
}
